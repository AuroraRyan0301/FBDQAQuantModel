{
 "cells": [
  {
   "cell_type": "code",
   "execution_count": 1,
   "metadata": {
    "execution": {
     "iopub.execute_input": "2023-06-01T10:39:58.586211Z",
     "iopub.status.busy": "2023-06-01T10:39:58.585058Z",
     "iopub.status.idle": "2023-06-01T10:40:00.914675Z",
     "shell.execute_reply": "2023-06-01T10:40:00.913244Z",
     "shell.execute_reply.started": "2023-06-01T10:39:58.586145Z"
    },
    "tags": []
   },
   "outputs": [],
   "source": [
    "import os\n",
    "import pandas as pd\n",
    "import pickle\n",
    "import numpy as np\n",
    "import matplotlib.pyplot as plt\n",
    "from datetime import datetime\n",
    "from tqdm import tqdm \n",
    "from sklearn.metrics import accuracy_score, classification_report\n",
    "import torchvision.models as models\n",
    "\n",
    "import torch\n",
    "import torch.nn.functional as F\n",
    "from torch.utils import data\n",
    "from torchinfo import summary\n",
    "import torch.nn as nn\n",
    "import torch.optim as optim\n",
    "import re"
   ]
  },
  {
   "cell_type": "markdown",
   "metadata": {},
   "source": [
    "# 读取数据"
   ]
  },
  {
   "cell_type": "code",
   "execution_count": 2,
   "metadata": {
    "execution": {
     "iopub.execute_input": "2023-06-01T10:40:00.916597Z",
     "iopub.status.busy": "2023-06-01T10:40:00.916338Z",
     "iopub.status.idle": "2023-06-01T10:40:11.862015Z",
     "shell.execute_reply": "2023-06-01T10:40:11.860692Z",
     "shell.execute_reply.started": "2023-06-01T10:40:00.916579Z"
    },
    "tags": []
   },
   "outputs": [],
   "source": [
    "files_path = './FBDQA2021A_MMP_Challenge/train_data.csv'\n",
    "df =  pd.read_csv(files_path)\n",
    "df = df.sort_values(by=['sym','date',\"date_time\"])"
   ]
  },
  {
   "cell_type": "code",
   "execution_count": 3,
   "metadata": {
    "execution": {
     "iopub.execute_input": "2023-06-01T10:40:11.863506Z",
     "iopub.status.busy": "2023-06-01T10:40:11.863294Z",
     "iopub.status.idle": "2023-06-01T10:40:14.182638Z",
     "shell.execute_reply": "2023-06-01T10:40:14.181089Z",
     "shell.execute_reply.started": "2023-06-01T10:40:11.863487Z"
    },
    "tags": []
   },
   "outputs": [],
   "source": [
    "# 价格+1（从涨跌幅还原到对前收盘价的比例）\n",
    "df['bid1'] = df['bid1']+1\n",
    "df['bid2'] = df['bid2']+1\n",
    "df['bid3'] = df['bid3']+1\n",
    "df['bid4'] = df['bid4']+1\n",
    "df['bid5'] = df['bid5']+1\n",
    "df['ask1'] = df['ask1']+1\n",
    "df['ask2'] = df['ask2']+1\n",
    "df['ask3'] = df['ask3']+1\n",
    "df['ask4'] = df['ask4']+1\n",
    "df['ask5'] = df['ask5']+1\n",
    "\n",
    "# 量价组合\n",
    "df['spread1'] =  df['ask1'] - df['bid1']\n",
    "df['spread2'] =  df['ask2'] - df['bid2']\n",
    "df['spread3'] =  df['ask3'] - df['bid3']\n",
    "df['mid_price1'] =  df['ask1'] + df['bid1']\n",
    "df['mid_price2'] =  df['ask2'] + df['bid2']\n",
    "df['mid_price3'] =  df['ask3'] + df['bid3']\n",
    "df['weighted_ab1'] = (df['ask1'] * df['bsize1'] + df['bid1'] * df['asize1']) / (df['bsize1'] + df['asize1'])\n",
    "df['weighted_ab2'] = (df['ask2'] * df['bsize2'] + df['bid2'] * df['asize2']) / (df['bsize2'] + df['asize2'])\n",
    "df['weighted_ab3'] = (df['ask3'] * df['bsize3'] + df['bid3'] * df['asize3']) / (df['bsize3'] + df['asize3'])\n",
    "\n",
    "df['vol1_rel_diff']   = (df['bsize1'] - df['asize1']) / (df['bsize1'] + df['asize1'])\n",
    "df['volall_rel_diff'] = (df['bsize1'] + df['bsize2'] + df['bsize3'] + df['bsize4'] + df['bsize5'] \\\n",
    "                 - df['asize1'] - df['asize2'] - df['asize3'] - df['asize4'] - df['asize5'] ) / \\\n",
    "                 ( df['bsize1'] + df['bsize2'] + df['bsize3'] + df['bsize4'] + df['bsize5'] \\\n",
    "                 + df['asize1'] + df['asize2'] + df['asize3'] + df['asize4'] + df['asize5'] )\n",
    "\n",
    "df['amount'] = df['amount_delta'].map(np.log1p)\n",
    "\n",
    "df['bid1'] = df['bid1']-1\n",
    "df['bid2'] = df['bid2']-1\n",
    "df['bid3'] = df['bid3']-1\n",
    "df['bid4'] = df['bid4']-1\n",
    "df['bid5'] = df['bid5']-1\n",
    "df['ask1'] = df['ask1']-1\n",
    "df['ask2'] = df['ask2']-1\n",
    "df['ask3'] = df['ask3']-1\n",
    "df['ask4'] = df['ask4']-1\n",
    "df['ask5'] = df['ask5']-1\n"
   ]
  },
  {
   "cell_type": "code",
   "execution_count": 4,
   "metadata": {
    "execution": {
     "iopub.execute_input": "2023-06-01T10:40:14.184381Z",
     "iopub.status.busy": "2023-06-01T10:40:14.184061Z",
     "iopub.status.idle": "2023-06-01T10:40:14.191393Z",
     "shell.execute_reply": "2023-06-01T10:40:14.190223Z",
     "shell.execute_reply.started": "2023-06-01T10:40:14.184351Z"
    },
    "tags": []
   },
   "outputs": [],
   "source": [
    "feature_col_names = ['bid1','bsize1',\n",
    "                     'bid2','bsize2',\n",
    "                     'bid3','bsize3',\n",
    "                     'bid4','bsize4',\n",
    "                     'bid5','bsize5',\n",
    "                     'ask1','asize1',\n",
    "                     'ask2','asize2',\n",
    "                     'ask3','asize3',\n",
    "                     'ask4','asize4',\n",
    "                     'ask5','asize5',\n",
    "                     'spread1','mid_price1',\n",
    "                     'spread2','mid_price2',\n",
    "                     'spread3','mid_price3',\n",
    "                     'weighted_ab1','weighted_ab2','weighted_ab3','amount',\n",
    "                     'vol1_rel_diff','volall_rel_diff'\n",
    "                    ]\n",
    "label_col_name = ['label_40']"
   ]
  },
  {
   "cell_type": "code",
   "execution_count": 5,
   "metadata": {
    "execution": {
     "iopub.execute_input": "2023-06-01T10:40:14.193570Z",
     "iopub.status.busy": "2023-06-01T10:40:14.192687Z",
     "iopub.status.idle": "2023-06-01T10:40:14.731265Z",
     "shell.execute_reply": "2023-06-01T10:40:14.729824Z",
     "shell.execute_reply.started": "2023-06-01T10:40:14.193538Z"
    },
    "tags": []
   },
   "outputs": [
    {
     "name": "stdout",
     "output_type": "stream",
     "text": [
      "train_date_nums: 63, val_date_nums: 8, test_date_nums: 8\n"
     ]
    }
   ],
   "source": [
    "n = len(df['date'].unique())\n",
    "\n",
    "# ##划分训练/测试集\n",
    "train_nums = int(n*0.8 + 0.5)\n",
    "val_nums = int(n*0.1 + 0.5)\n",
    "print(f'train_date_nums: {train_nums}, val_date_nums: {val_nums}, test_date_nums: {n-train_nums-val_nums}')\n",
    "train_data = df[df.date < train_nums]\n",
    "val_data = df[(df.date >= train_nums) & (df.date < train_nums+val_nums)]\n",
    "test_data = df[df.date >= train_nums+val_nums]"
   ]
  },
  {
   "cell_type": "markdown",
   "metadata": {},
   "source": [
    "## GPU准备"
   ]
  },
  {
   "cell_type": "code",
   "execution_count": 6,
   "metadata": {
    "execution": {
     "iopub.execute_input": "2023-06-01T10:40:14.732523Z",
     "iopub.status.busy": "2023-06-01T10:40:14.732325Z",
     "iopub.status.idle": "2023-06-01T10:40:14.886772Z",
     "shell.execute_reply": "2023-06-01T10:40:14.885670Z",
     "shell.execute_reply.started": "2023-06-01T10:40:14.732505Z"
    },
    "tags": []
   },
   "outputs": [
    {
     "name": "stdout",
     "output_type": "stream",
     "text": [
      "cuda:0\n"
     ]
    }
   ],
   "source": [
    "device = torch.device(\"cuda:0\" if torch.cuda.is_available() else \"cpu\")\n",
    "print(device)"
   ]
  },
  {
   "cell_type": "markdown",
   "metadata": {},
   "source": [
    "## 准备dataset"
   ]
  },
  {
   "cell_type": "code",
   "execution_count": 13,
   "metadata": {
    "execution": {
     "iopub.execute_input": "2023-06-01T10:41:35.877870Z",
     "iopub.status.busy": "2023-06-01T10:41:35.876245Z",
     "iopub.status.idle": "2023-06-01T10:41:35.887821Z",
     "shell.execute_reply": "2023-06-01T10:41:35.886098Z",
     "shell.execute_reply.started": "2023-06-01T10:41:35.877796Z"
    },
    "tags": []
   },
   "outputs": [],
   "source": [
    "def data_transform(X, T):\n",
    "    [N, D] = X.shape\n",
    "    dataX = np.zeros((N - T + 1, T, D))\n",
    "    for i in range(T, N + 1):\n",
    "        dataX[i - T] = X[i - T:i, :]\n",
    "    return dataX.tolist()"
   ]
  },
  {
   "cell_type": "code",
   "execution_count": 14,
   "metadata": {
    "execution": {
     "iopub.execute_input": "2023-06-01T10:41:36.282935Z",
     "iopub.status.busy": "2023-06-01T10:41:36.281641Z",
     "iopub.status.idle": "2023-06-01T10:41:36.301945Z",
     "shell.execute_reply": "2023-06-01T10:41:36.300460Z",
     "shell.execute_reply.started": "2023-06-01T10:41:36.282866Z"
    },
    "tags": []
   },
   "outputs": [],
   "source": [
    "class Dataset(data.Dataset):\n",
    "    def __init__(self, data, num_classes, T):\n",
    "        self.T = T\n",
    "        \n",
    "        dates = data['date'].unique()\n",
    "        syms = data['sym'].unique()\n",
    "        data_result = []\n",
    "        label_result = []\n",
    "        for sym in syms:\n",
    "            for date in dates:\n",
    "                sym_date_df = data[(data.sym == sym)&(data.date == date)].copy()\n",
    "                if len(sym_date_df) == 0:\n",
    "                    continue\n",
    "                    \n",
    "                data_result += data_transform(sym_date_df[feature_col_names].values, self.T)\n",
    "                label_result += sym_date_df[label_col_name][T - 1:].values.tolist()\n",
    "                \n",
    "        self.x = torch.tensor(data_result).to(torch.float32).unsqueeze(1).to(device)\n",
    "        label_result = np.array(label_result).reshape(-1)\n",
    "        self.y = torch.tensor(label_result.astype(np.int64)).to(device)\n",
    "        \n",
    "        self.length = len(self.x)\n",
    "\n",
    "    def __len__(self):\n",
    "        return self.length\n",
    "\n",
    "    def __getitem__(self, index):\n",
    "        return self.x[index], self.y[index]"
   ]
  },
  {
   "cell_type": "code",
   "execution_count": 15,
   "metadata": {
    "execution": {
     "iopub.execute_input": "2023-06-01T10:41:37.509805Z",
     "iopub.status.busy": "2023-06-01T10:41:37.508521Z",
     "iopub.status.idle": "2023-06-01T10:45:25.257242Z",
     "shell.execute_reply": "2023-06-01T10:45:25.255425Z",
     "shell.execute_reply.started": "2023-06-01T10:41:37.509739Z"
    },
    "tags": []
   },
   "outputs": [],
   "source": [
    "dataset_val   = Dataset(data=val_data, num_classes=3, T=100)\n",
    "# dataset_test  = Dataset(data=test_data, num_classes=3, T=100)\n",
    "# dataset_train = Dataset(data=train_data, num_classes=3, T=100)"
   ]
  },
  {
   "cell_type": "code",
   "execution_count": 16,
   "metadata": {
    "execution": {
     "iopub.execute_input": "2023-06-01T10:45:25.259348Z",
     "iopub.status.busy": "2023-06-01T10:45:25.259123Z",
     "iopub.status.idle": "2023-06-01T10:49:04.237666Z",
     "shell.execute_reply": "2023-06-01T10:49:04.235711Z",
     "shell.execute_reply.started": "2023-06-01T10:45:25.259327Z"
    },
    "tags": []
   },
   "outputs": [],
   "source": [
    "dataset_test  = Dataset(data=test_data, num_classes=3, T=100)"
   ]
  },
  {
   "cell_type": "code",
   "execution_count": 17,
   "metadata": {
    "execution": {
     "iopub.execute_input": "2023-06-01T10:49:04.239063Z",
     "iopub.status.busy": "2023-06-01T10:49:04.238852Z",
     "iopub.status.idle": "2023-06-01T11:24:03.241925Z",
     "shell.execute_reply": "2023-06-01T11:24:03.239759Z",
     "shell.execute_reply.started": "2023-06-01T10:49:04.239042Z"
    },
    "tags": []
   },
   "outputs": [],
   "source": [
    "dataset_train = Dataset(data=train_data, num_classes=3, T=100)"
   ]
  },
  {
   "cell_type": "code",
   "execution_count": 18,
   "metadata": {
    "execution": {
     "iopub.execute_input": "2023-06-01T11:24:03.245658Z",
     "iopub.status.busy": "2023-06-01T11:24:03.245395Z",
     "iopub.status.idle": "2023-06-01T11:24:03.252857Z",
     "shell.execute_reply": "2023-06-01T11:24:03.251029Z",
     "shell.execute_reply.started": "2023-06-01T11:24:03.245631Z"
    },
    "tags": []
   },
   "outputs": [],
   "source": [
    "# import pickle\n",
    "\n",
    "# # 获取当前文件所在路径的上一层路径\n",
    "# parent_dir = os.path.dirname(os.path.abspath(os.getcwd()))  # __file__表示当前文件名，可以用其他文件名替换\n",
    "# grandparent_dir = os.path.dirname(os.path.abspath(parent_dir))\n",
    "# # 输出上一层路径\n",
    "# print(parent_dir)\n",
    "# print(grandparent_dir)\n",
    "\n",
    "# # 保存 Dataset 对象到文件中\n",
    "# with open(grandparent_dir+'/dataset_train_diff_1channel_40_new.pickle', 'wb') as f:\n",
    "#     pickle.dump(dataset_train, f)\n",
    "# with open(grandparent_dir+'/dataset_test_diff_1channel_40_new.pickle', 'wb') as f:\n",
    "#     pickle.dump(dataset_test, f)\n",
    "# with open(grandparent_dir+'/dataset_val_diff_1channel_40_new.pickle', 'wb') as f:\n",
    "#     pickle.dump(dataset_val, f)"
   ]
  },
  {
   "cell_type": "code",
   "execution_count": 19,
   "metadata": {
    "execution": {
     "iopub.execute_input": "2023-06-01T11:24:03.253604Z",
     "iopub.status.busy": "2023-06-01T11:24:03.253435Z",
     "iopub.status.idle": "2023-06-01T11:24:03.258518Z",
     "shell.execute_reply": "2023-06-01T11:24:03.257524Z",
     "shell.execute_reply.started": "2023-06-01T11:24:03.253589Z"
    },
    "tags": []
   },
   "outputs": [],
   "source": [
    "# import pickle\n",
    "\n",
    "# # 获取当前文件所在路径的上一层路径\n",
    "# parent_dir = os.path.dirname(os.path.abspath(os.getcwd()))  # __file__表示当前文件名，可以用其他文件名替换\n",
    "# grandparent_dir = os.path.dirname(os.path.abspath(parent_dir))\n",
    "# # 输出上一层路径\n",
    "# print(parent_dir)\n",
    "# print(grandparent_dir)\n",
    "\n",
    "# # 从文件中加载 Dataset 对象\n",
    "# with open(grandparent_dir+'/dataset_train_diff_1channel_60.pickle', 'rb') as f:\n",
    "#     dataset_train = pickle.load(f)\n",
    "# with open(grandparent_dir+'/dataset_val_diff_1channel_60.pickle', 'rb') as f:\n",
    "#     dataset_val = pickle.load(f)\n",
    "# with open(grandparent_dir+'/dataset_test_diff_1channel_60.pickle', 'rb') as f:\n",
    "#     dataset_test = pickle.load(f)"
   ]
  },
  {
   "cell_type": "code",
   "execution_count": 20,
   "metadata": {
    "execution": {
     "iopub.execute_input": "2023-06-01T11:24:03.259494Z",
     "iopub.status.busy": "2023-06-01T11:24:03.259328Z",
     "iopub.status.idle": "2023-06-01T11:24:03.269054Z",
     "shell.execute_reply": "2023-06-01T11:24:03.267926Z",
     "shell.execute_reply.started": "2023-06-01T11:24:03.259478Z"
    },
    "tags": []
   },
   "outputs": [
    {
     "name": "stdout",
     "output_type": "stream",
     "text": [
      "torch.Size([2348108, 1, 100, 32]) torch.Size([2348108]) False False\n",
      "torch.Size([306022, 1, 100, 32]) torch.Size([306022]) False False\n",
      "torch.Size([309921, 1, 100, 32]) torch.Size([309921]) False False\n"
     ]
    }
   ],
   "source": [
    "batch_size = 32\n",
    "\n",
    "train_loader = torch.utils.data.DataLoader(dataset=dataset_train, batch_size=batch_size, shuffle=True)\n",
    "val_loader   = torch.utils.data.DataLoader(dataset=dataset_val, batch_size=batch_size, shuffle=False)\n",
    "test_loader  = torch.utils.data.DataLoader(dataset=dataset_test, batch_size=batch_size, shuffle=False)\n",
    "\n",
    "print(dataset_train.x.shape, dataset_train.y.shape, dataset_train.x.requires_grad, dataset_train.y.requires_grad,)\n",
    "print(dataset_val.x.shape, dataset_val.y.shape, dataset_val.x.requires_grad, dataset_val.y.requires_grad,)\n",
    "print(dataset_test.x.shape, dataset_test.y.shape, dataset_test.x.requires_grad, dataset_test.y.requires_grad,)"
   ]
  },
  {
   "cell_type": "code",
   "execution_count": 21,
   "metadata": {
    "execution": {
     "iopub.execute_input": "2023-06-01T11:24:03.270068Z",
     "iopub.status.busy": "2023-06-01T11:24:03.269897Z",
     "iopub.status.idle": "2023-06-01T11:24:03.275660Z",
     "shell.execute_reply": "2023-06-01T11:24:03.274545Z",
     "shell.execute_reply.started": "2023-06-01T11:24:03.270052Z"
    },
    "tags": []
   },
   "outputs": [
    {
     "name": "stdout",
     "output_type": "stream",
     "text": [
      "cuda:0\n",
      "cuda:0\n"
     ]
    }
   ],
   "source": [
    "print(dataset_train.x.device)\n",
    "print(dataset_train.y.device)"
   ]
  },
  {
   "cell_type": "markdown",
   "metadata": {},
   "source": [
    "# 定义模型"
   ]
  },
  {
   "cell_type": "code",
   "execution_count": 22,
   "metadata": {
    "execution": {
     "iopub.execute_input": "2023-06-01T11:24:03.276503Z",
     "iopub.status.busy": "2023-06-01T11:24:03.276292Z",
     "iopub.status.idle": "2023-06-01T11:24:03.282930Z",
     "shell.execute_reply": "2023-06-01T11:24:03.281419Z",
     "shell.execute_reply.started": "2023-06-01T11:24:03.276482Z"
    },
    "tags": []
   },
   "outputs": [],
   "source": [
    "from mmpc.model import Res50Transformer"
   ]
  },
  {
   "cell_type": "code",
   "execution_count": 23,
   "metadata": {
    "execution": {
     "iopub.execute_input": "2023-06-01T11:24:03.284083Z",
     "iopub.status.busy": "2023-06-01T11:24:03.283863Z",
     "iopub.status.idle": "2023-06-01T11:24:04.453171Z",
     "shell.execute_reply": "2023-06-01T11:24:04.451655Z",
     "shell.execute_reply.started": "2023-06-01T11:24:03.284064Z"
    },
    "tags": []
   },
   "outputs": [],
   "source": [
    "model = Res50Transformer(num_classes = 3)\n",
    "model.to(device);"
   ]
  },
  {
   "cell_type": "markdown",
   "metadata": {},
   "source": [
    "# 训练模型"
   ]
  },
  {
   "cell_type": "code",
   "execution_count": 24,
   "metadata": {
    "execution": {
     "iopub.execute_input": "2023-06-01T11:24:04.455564Z",
     "iopub.status.busy": "2023-06-01T11:24:04.455227Z",
     "iopub.status.idle": "2023-06-01T11:24:04.462011Z",
     "shell.execute_reply": "2023-06-01T11:24:04.460470Z",
     "shell.execute_reply.started": "2023-06-01T11:24:04.455544Z"
    },
    "tags": []
   },
   "outputs": [],
   "source": [
    "criterion = nn.CrossEntropyLoss()\n",
    "optimizer = torch.optim.Adam(model.parameters(), lr=0.0001)"
   ]
  },
  {
   "cell_type": "code",
   "execution_count": 25,
   "metadata": {
    "execution": {
     "iopub.execute_input": "2023-06-01T11:24:04.462754Z",
     "iopub.status.busy": "2023-06-01T11:24:04.462588Z",
     "iopub.status.idle": "2023-06-01T11:24:04.481658Z",
     "shell.execute_reply": "2023-06-01T11:24:04.479975Z",
     "shell.execute_reply.started": "2023-06-01T11:24:04.462738Z"
    },
    "tags": []
   },
   "outputs": [],
   "source": [
    "def batch_gd(model, criterion, optimizer, train_loader, test_loader, epochs):\n",
    "    best_test_loss = np.inf\n",
    "    best_test_epoch = 0\n",
    "    step = 0\n",
    "    save_step = 20000\n",
    "    num_data_points = len(train_loader.dataset)\n",
    "    train_losses = np.zeros((int(num_data_points/save_step)+1)*epochs)\n",
    "    test_losses = np.zeros((int(num_data_points/save_step)+1)*epochs)\n",
    "    \n",
    "    old_checkpoint_dir = 'ResNetcheckpoints_label40_new'\n",
    "\n",
    "    # Load pretrained weights\n",
    "    Res50checkpoints = [f for f in os.listdir(old_checkpoint_dir) if re.match(r'ResNet_\\d+.pth', f)]\n",
    "    pretrained_dir = max(Res50checkpoints, key=lambda x: int(x.split('_')[-1].split('.')[0]))\n",
    "    print(f'Loaded model from {pretrained_dir}')\n",
    "    pretrained_dict = torch.load('./ResNetcheckpoints_label40_new/'+pretrained_dir)\n",
    "    model_dict = model.state_dict()\n",
    "    pretrained_dict = {k: v for k, v in pretrained_dict.items() if (k in model_dict and (k.startswith('conv1.') or k.startswith('resnet50.')))}\n",
    "    print(\"Inherited parameters from dict {}\".format(pretrained_dict.keys()))\n",
    "    model_dict.update(pretrained_dict)\n",
    "    model.load_state_dict(model_dict)\n",
    "    \n",
    "    checkpoint_dir = 'Res50Transformer_checkpoints_label40_new'\n",
    "    if not os.path.exists(checkpoint_dir):\n",
    "        os.makedirs(checkpoint_dir)\n",
    "\n",
    "    # Load the latest checkpoint if available\n",
    "    checkpoints = [f for f in os.listdir(checkpoint_dir) if re.match(r'Res50Transformer_\\d+.pth', f)]\n",
    "    try:\n",
    "        latest_checkpoint = max(checkpoints, key=lambda x: int(x.split('_')[-1].split('.')[0]))\n",
    "        step = int(latest_checkpoint.split('_')[-1].split('.')[0])\n",
    "        model.load_state_dict(torch.load(os.path.join(checkpoint_dir, latest_checkpoint)))\n",
    "        print(f'Loaded model from {latest_checkpoint}')\n",
    "    except:\n",
    "        torch.save(model.state_dict(), os.path.join(checkpoint_dir, 'Res50Transformer_0.pth'))\n",
    "        print(f'Initialized new model and saved as {os.path.join(checkpoint_dir, \"Res50Transformer_0.pth\")}')\n",
    "\n",
    "    for it in tqdm(range(epochs)):\n",
    "        # optimizer.lr = optimizer.lr * (0.98**(step/save_step))\n",
    "        model.train()\n",
    "        train_loss = []\n",
    "        t0 = datetime.now()\n",
    "\n",
    "        for inputs, targets in train_loader:\n",
    "            optimizer.zero_grad()            \n",
    "            outputs = model(inputs)\n",
    "            loss = criterion(outputs, targets)\n",
    "\n",
    "            loss.backward()\n",
    "            torch.nn.utils.clip_grad_norm_(model.parameters(), 0.5)\n",
    "            optimizer.step()\n",
    "            \n",
    "            train_loss.append(loss.item())\n",
    "\n",
    "            # Save model every 150000 steps\n",
    "            step += 1\n",
    "            if step % save_step == 0:\n",
    "                \n",
    "                torch.save(model.state_dict(), os.path.join(checkpoint_dir, f'Res50Transformer_{step}.pth'))\n",
    "                print(f'Res50Transformer Model saved at step {step}')\n",
    "\n",
    "        train_loss = np.mean(train_loss)\n",
    "\n",
    "        model.eval()\n",
    "        test_loss = []\n",
    "        for inputs, targets in test_loader:\n",
    "            inputs, targets = inputs.to(device, dtype=torch.float), targets.to(device, dtype=torch.int64)      \n",
    "            outputs = model(inputs)\n",
    "            loss = criterion(outputs, targets)\n",
    "            test_loss.append(loss.item())\n",
    "        test_loss = np.mean(test_loss)\n",
    "        current_lr = optimizer.state_dict()['param_groups'][0]['lr']\n",
    "\n",
    "        train_losses[it] = train_loss\n",
    "        test_losses[it] = test_loss\n",
    "\n",
    "        if test_loss < best_test_loss:\n",
    "            torch.save(model.state_dict(), f'Res50Transformer_best_val_model.pth')\n",
    "            best_test_loss = test_loss\n",
    "            best_test_epoch = it\n",
    "            print('Res50Transformer model saved')\n",
    "\n",
    "        dt = datetime.now() - t0\n",
    "        print(f'Epoch {it+1}/{epochs}, Train Loss: {train_loss:.4f}, \\\n",
    "          Validation Loss: {test_loss:.4f},  Learning Rate: {current_lr:.9f}, Duration: {dt}, Best Val Epoch: {best_test_epoch}')\n",
    "\n",
    "    torch.save(model.state_dict(), f'final_Res50Transformer_model.pth')\n",
    "    return train_losses, test_losses"
   ]
  },
  {
   "cell_type": "code",
   "execution_count": 26,
   "metadata": {
    "execution": {
     "iopub.execute_input": "2023-06-01T11:24:04.482631Z",
     "iopub.status.busy": "2023-06-01T11:24:04.482460Z",
     "iopub.status.idle": "2023-06-01T11:42:47.558856Z",
     "shell.execute_reply": "2023-06-01T11:42:47.557570Z",
     "shell.execute_reply.started": "2023-06-01T11:24:04.482615Z"
    },
    "tags": []
   },
   "outputs": [
    {
     "name": "stdout",
     "output_type": "stream",
     "text": [
      "Loaded model from ResNet_100000.pth\n",
      "Inherited parameters from dict dict_keys(['resnet50.conv1.weight', 'resnet50.bn1.weight', 'resnet50.bn1.bias', 'resnet50.bn1.running_mean', 'resnet50.bn1.running_var', 'resnet50.bn1.num_batches_tracked', 'resnet50.layer1.0.conv1.weight', 'resnet50.layer1.0.bn1.weight', 'resnet50.layer1.0.bn1.bias', 'resnet50.layer1.0.bn1.running_mean', 'resnet50.layer1.0.bn1.running_var', 'resnet50.layer1.0.bn1.num_batches_tracked', 'resnet50.layer1.0.conv2.weight', 'resnet50.layer1.0.bn2.weight', 'resnet50.layer1.0.bn2.bias', 'resnet50.layer1.0.bn2.running_mean', 'resnet50.layer1.0.bn2.running_var', 'resnet50.layer1.0.bn2.num_batches_tracked', 'resnet50.layer1.0.conv3.weight', 'resnet50.layer1.0.bn3.weight', 'resnet50.layer1.0.bn3.bias', 'resnet50.layer1.0.bn3.running_mean', 'resnet50.layer1.0.bn3.running_var', 'resnet50.layer1.0.bn3.num_batches_tracked', 'resnet50.layer1.0.downsample.0.weight', 'resnet50.layer1.0.downsample.1.weight', 'resnet50.layer1.0.downsample.1.bias', 'resnet50.layer1.0.downsample.1.running_mean', 'resnet50.layer1.0.downsample.1.running_var', 'resnet50.layer1.0.downsample.1.num_batches_tracked', 'resnet50.layer1.1.conv1.weight', 'resnet50.layer1.1.bn1.weight', 'resnet50.layer1.1.bn1.bias', 'resnet50.layer1.1.bn1.running_mean', 'resnet50.layer1.1.bn1.running_var', 'resnet50.layer1.1.bn1.num_batches_tracked', 'resnet50.layer1.1.conv2.weight', 'resnet50.layer1.1.bn2.weight', 'resnet50.layer1.1.bn2.bias', 'resnet50.layer1.1.bn2.running_mean', 'resnet50.layer1.1.bn2.running_var', 'resnet50.layer1.1.bn2.num_batches_tracked', 'resnet50.layer1.1.conv3.weight', 'resnet50.layer1.1.bn3.weight', 'resnet50.layer1.1.bn3.bias', 'resnet50.layer1.1.bn3.running_mean', 'resnet50.layer1.1.bn3.running_var', 'resnet50.layer1.1.bn3.num_batches_tracked', 'resnet50.layer1.2.conv1.weight', 'resnet50.layer1.2.bn1.weight', 'resnet50.layer1.2.bn1.bias', 'resnet50.layer1.2.bn1.running_mean', 'resnet50.layer1.2.bn1.running_var', 'resnet50.layer1.2.bn1.num_batches_tracked', 'resnet50.layer1.2.conv2.weight', 'resnet50.layer1.2.bn2.weight', 'resnet50.layer1.2.bn2.bias', 'resnet50.layer1.2.bn2.running_mean', 'resnet50.layer1.2.bn2.running_var', 'resnet50.layer1.2.bn2.num_batches_tracked', 'resnet50.layer1.2.conv3.weight', 'resnet50.layer1.2.bn3.weight', 'resnet50.layer1.2.bn3.bias', 'resnet50.layer1.2.bn3.running_mean', 'resnet50.layer1.2.bn3.running_var', 'resnet50.layer1.2.bn3.num_batches_tracked', 'resnet50.layer2.0.conv1.weight', 'resnet50.layer2.0.bn1.weight', 'resnet50.layer2.0.bn1.bias', 'resnet50.layer2.0.bn1.running_mean', 'resnet50.layer2.0.bn1.running_var', 'resnet50.layer2.0.bn1.num_batches_tracked', 'resnet50.layer2.0.conv2.weight', 'resnet50.layer2.0.bn2.weight', 'resnet50.layer2.0.bn2.bias', 'resnet50.layer2.0.bn2.running_mean', 'resnet50.layer2.0.bn2.running_var', 'resnet50.layer2.0.bn2.num_batches_tracked', 'resnet50.layer2.0.conv3.weight', 'resnet50.layer2.0.bn3.weight', 'resnet50.layer2.0.bn3.bias', 'resnet50.layer2.0.bn3.running_mean', 'resnet50.layer2.0.bn3.running_var', 'resnet50.layer2.0.bn3.num_batches_tracked', 'resnet50.layer2.0.downsample.0.weight', 'resnet50.layer2.0.downsample.1.weight', 'resnet50.layer2.0.downsample.1.bias', 'resnet50.layer2.0.downsample.1.running_mean', 'resnet50.layer2.0.downsample.1.running_var', 'resnet50.layer2.0.downsample.1.num_batches_tracked', 'resnet50.layer2.1.conv1.weight', 'resnet50.layer2.1.bn1.weight', 'resnet50.layer2.1.bn1.bias', 'resnet50.layer2.1.bn1.running_mean', 'resnet50.layer2.1.bn1.running_var', 'resnet50.layer2.1.bn1.num_batches_tracked', 'resnet50.layer2.1.conv2.weight', 'resnet50.layer2.1.bn2.weight', 'resnet50.layer2.1.bn2.bias', 'resnet50.layer2.1.bn2.running_mean', 'resnet50.layer2.1.bn2.running_var', 'resnet50.layer2.1.bn2.num_batches_tracked', 'resnet50.layer2.1.conv3.weight', 'resnet50.layer2.1.bn3.weight', 'resnet50.layer2.1.bn3.bias', 'resnet50.layer2.1.bn3.running_mean', 'resnet50.layer2.1.bn3.running_var', 'resnet50.layer2.1.bn3.num_batches_tracked', 'resnet50.layer2.2.conv1.weight', 'resnet50.layer2.2.bn1.weight', 'resnet50.layer2.2.bn1.bias', 'resnet50.layer2.2.bn1.running_mean', 'resnet50.layer2.2.bn1.running_var', 'resnet50.layer2.2.bn1.num_batches_tracked', 'resnet50.layer2.2.conv2.weight', 'resnet50.layer2.2.bn2.weight', 'resnet50.layer2.2.bn2.bias', 'resnet50.layer2.2.bn2.running_mean', 'resnet50.layer2.2.bn2.running_var', 'resnet50.layer2.2.bn2.num_batches_tracked', 'resnet50.layer2.2.conv3.weight', 'resnet50.layer2.2.bn3.weight', 'resnet50.layer2.2.bn3.bias', 'resnet50.layer2.2.bn3.running_mean', 'resnet50.layer2.2.bn3.running_var', 'resnet50.layer2.2.bn3.num_batches_tracked', 'resnet50.layer2.3.conv1.weight', 'resnet50.layer2.3.bn1.weight', 'resnet50.layer2.3.bn1.bias', 'resnet50.layer2.3.bn1.running_mean', 'resnet50.layer2.3.bn1.running_var', 'resnet50.layer2.3.bn1.num_batches_tracked', 'resnet50.layer2.3.conv2.weight', 'resnet50.layer2.3.bn2.weight', 'resnet50.layer2.3.bn2.bias', 'resnet50.layer2.3.bn2.running_mean', 'resnet50.layer2.3.bn2.running_var', 'resnet50.layer2.3.bn2.num_batches_tracked', 'resnet50.layer2.3.conv3.weight', 'resnet50.layer2.3.bn3.weight', 'resnet50.layer2.3.bn3.bias', 'resnet50.layer2.3.bn3.running_mean', 'resnet50.layer2.3.bn3.running_var', 'resnet50.layer2.3.bn3.num_batches_tracked', 'resnet50.layer3.0.conv1.weight', 'resnet50.layer3.0.bn1.weight', 'resnet50.layer3.0.bn1.bias', 'resnet50.layer3.0.bn1.running_mean', 'resnet50.layer3.0.bn1.running_var', 'resnet50.layer3.0.bn1.num_batches_tracked', 'resnet50.layer3.0.conv2.weight', 'resnet50.layer3.0.bn2.weight', 'resnet50.layer3.0.bn2.bias', 'resnet50.layer3.0.bn2.running_mean', 'resnet50.layer3.0.bn2.running_var', 'resnet50.layer3.0.bn2.num_batches_tracked', 'resnet50.layer3.0.conv3.weight', 'resnet50.layer3.0.bn3.weight', 'resnet50.layer3.0.bn3.bias', 'resnet50.layer3.0.bn3.running_mean', 'resnet50.layer3.0.bn3.running_var', 'resnet50.layer3.0.bn3.num_batches_tracked', 'resnet50.layer3.0.downsample.0.weight', 'resnet50.layer3.0.downsample.1.weight', 'resnet50.layer3.0.downsample.1.bias', 'resnet50.layer3.0.downsample.1.running_mean', 'resnet50.layer3.0.downsample.1.running_var', 'resnet50.layer3.0.downsample.1.num_batches_tracked', 'resnet50.layer3.1.conv1.weight', 'resnet50.layer3.1.bn1.weight', 'resnet50.layer3.1.bn1.bias', 'resnet50.layer3.1.bn1.running_mean', 'resnet50.layer3.1.bn1.running_var', 'resnet50.layer3.1.bn1.num_batches_tracked', 'resnet50.layer3.1.conv2.weight', 'resnet50.layer3.1.bn2.weight', 'resnet50.layer3.1.bn2.bias', 'resnet50.layer3.1.bn2.running_mean', 'resnet50.layer3.1.bn2.running_var', 'resnet50.layer3.1.bn2.num_batches_tracked', 'resnet50.layer3.1.conv3.weight', 'resnet50.layer3.1.bn3.weight', 'resnet50.layer3.1.bn3.bias', 'resnet50.layer3.1.bn3.running_mean', 'resnet50.layer3.1.bn3.running_var', 'resnet50.layer3.1.bn3.num_batches_tracked', 'resnet50.layer3.2.conv1.weight', 'resnet50.layer3.2.bn1.weight', 'resnet50.layer3.2.bn1.bias', 'resnet50.layer3.2.bn1.running_mean', 'resnet50.layer3.2.bn1.running_var', 'resnet50.layer3.2.bn1.num_batches_tracked', 'resnet50.layer3.2.conv2.weight', 'resnet50.layer3.2.bn2.weight', 'resnet50.layer3.2.bn2.bias', 'resnet50.layer3.2.bn2.running_mean', 'resnet50.layer3.2.bn2.running_var', 'resnet50.layer3.2.bn2.num_batches_tracked', 'resnet50.layer3.2.conv3.weight', 'resnet50.layer3.2.bn3.weight', 'resnet50.layer3.2.bn3.bias', 'resnet50.layer3.2.bn3.running_mean', 'resnet50.layer3.2.bn3.running_var', 'resnet50.layer3.2.bn3.num_batches_tracked', 'resnet50.layer3.3.conv1.weight', 'resnet50.layer3.3.bn1.weight', 'resnet50.layer3.3.bn1.bias', 'resnet50.layer3.3.bn1.running_mean', 'resnet50.layer3.3.bn1.running_var', 'resnet50.layer3.3.bn1.num_batches_tracked', 'resnet50.layer3.3.conv2.weight', 'resnet50.layer3.3.bn2.weight', 'resnet50.layer3.3.bn2.bias', 'resnet50.layer3.3.bn2.running_mean', 'resnet50.layer3.3.bn2.running_var', 'resnet50.layer3.3.bn2.num_batches_tracked', 'resnet50.layer3.3.conv3.weight', 'resnet50.layer3.3.bn3.weight', 'resnet50.layer3.3.bn3.bias', 'resnet50.layer3.3.bn3.running_mean', 'resnet50.layer3.3.bn3.running_var', 'resnet50.layer3.3.bn3.num_batches_tracked', 'resnet50.layer3.4.conv1.weight', 'resnet50.layer3.4.bn1.weight', 'resnet50.layer3.4.bn1.bias', 'resnet50.layer3.4.bn1.running_mean', 'resnet50.layer3.4.bn1.running_var', 'resnet50.layer3.4.bn1.num_batches_tracked', 'resnet50.layer3.4.conv2.weight', 'resnet50.layer3.4.bn2.weight', 'resnet50.layer3.4.bn2.bias', 'resnet50.layer3.4.bn2.running_mean', 'resnet50.layer3.4.bn2.running_var', 'resnet50.layer3.4.bn2.num_batches_tracked', 'resnet50.layer3.4.conv3.weight', 'resnet50.layer3.4.bn3.weight', 'resnet50.layer3.4.bn3.bias', 'resnet50.layer3.4.bn3.running_mean', 'resnet50.layer3.4.bn3.running_var', 'resnet50.layer3.4.bn3.num_batches_tracked', 'resnet50.layer3.5.conv1.weight', 'resnet50.layer3.5.bn1.weight', 'resnet50.layer3.5.bn1.bias', 'resnet50.layer3.5.bn1.running_mean', 'resnet50.layer3.5.bn1.running_var', 'resnet50.layer3.5.bn1.num_batches_tracked', 'resnet50.layer3.5.conv2.weight', 'resnet50.layer3.5.bn2.weight', 'resnet50.layer3.5.bn2.bias', 'resnet50.layer3.5.bn2.running_mean', 'resnet50.layer3.5.bn2.running_var', 'resnet50.layer3.5.bn2.num_batches_tracked', 'resnet50.layer3.5.conv3.weight', 'resnet50.layer3.5.bn3.weight', 'resnet50.layer3.5.bn3.bias', 'resnet50.layer3.5.bn3.running_mean', 'resnet50.layer3.5.bn3.running_var', 'resnet50.layer3.5.bn3.num_batches_tracked', 'resnet50.layer4.0.conv1.weight', 'resnet50.layer4.0.bn1.weight', 'resnet50.layer4.0.bn1.bias', 'resnet50.layer4.0.bn1.running_mean', 'resnet50.layer4.0.bn1.running_var', 'resnet50.layer4.0.bn1.num_batches_tracked', 'resnet50.layer4.0.conv2.weight', 'resnet50.layer4.0.bn2.weight', 'resnet50.layer4.0.bn2.bias', 'resnet50.layer4.0.bn2.running_mean', 'resnet50.layer4.0.bn2.running_var', 'resnet50.layer4.0.bn2.num_batches_tracked', 'resnet50.layer4.0.conv3.weight', 'resnet50.layer4.0.bn3.weight', 'resnet50.layer4.0.bn3.bias', 'resnet50.layer4.0.bn3.running_mean', 'resnet50.layer4.0.bn3.running_var', 'resnet50.layer4.0.bn3.num_batches_tracked', 'resnet50.layer4.0.downsample.0.weight', 'resnet50.layer4.0.downsample.1.weight', 'resnet50.layer4.0.downsample.1.bias', 'resnet50.layer4.0.downsample.1.running_mean', 'resnet50.layer4.0.downsample.1.running_var', 'resnet50.layer4.0.downsample.1.num_batches_tracked', 'resnet50.layer4.1.conv1.weight', 'resnet50.layer4.1.bn1.weight', 'resnet50.layer4.1.bn1.bias', 'resnet50.layer4.1.bn1.running_mean', 'resnet50.layer4.1.bn1.running_var', 'resnet50.layer4.1.bn1.num_batches_tracked', 'resnet50.layer4.1.conv2.weight', 'resnet50.layer4.1.bn2.weight', 'resnet50.layer4.1.bn2.bias', 'resnet50.layer4.1.bn2.running_mean', 'resnet50.layer4.1.bn2.running_var', 'resnet50.layer4.1.bn2.num_batches_tracked', 'resnet50.layer4.1.conv3.weight', 'resnet50.layer4.1.bn3.weight', 'resnet50.layer4.1.bn3.bias', 'resnet50.layer4.1.bn3.running_mean', 'resnet50.layer4.1.bn3.running_var', 'resnet50.layer4.1.bn3.num_batches_tracked', 'resnet50.layer4.2.conv1.weight', 'resnet50.layer4.2.bn1.weight', 'resnet50.layer4.2.bn1.bias', 'resnet50.layer4.2.bn1.running_mean', 'resnet50.layer4.2.bn1.running_var', 'resnet50.layer4.2.bn1.num_batches_tracked', 'resnet50.layer4.2.conv2.weight', 'resnet50.layer4.2.bn2.weight', 'resnet50.layer4.2.bn2.bias', 'resnet50.layer4.2.bn2.running_mean', 'resnet50.layer4.2.bn2.running_var', 'resnet50.layer4.2.bn2.num_batches_tracked', 'resnet50.layer4.2.conv3.weight', 'resnet50.layer4.2.bn3.weight', 'resnet50.layer4.2.bn3.bias', 'resnet50.layer4.2.bn3.running_mean', 'resnet50.layer4.2.bn3.running_var', 'resnet50.layer4.2.bn3.num_batches_tracked', 'resnet50.fc.weight', 'resnet50.fc.bias', 'conv1.weight'])\n",
      "Loaded model from Res50Transformer_200000.pth\n"
     ]
    },
    {
     "name": "stderr",
     "output_type": "stream",
     "text": [
      "  0%|          | 0/20 [00:00<?, ?it/s]"
     ]
    },
    {
     "name": "stdout",
     "output_type": "stream",
     "text": [
      "Res50Transformer Model saved at step 220000\n"
     ]
    },
    {
     "name": "stderr",
     "output_type": "stream",
     "text": [
      "  0%|          | 0/20 [18:42<?, ?it/s]\n"
     ]
    },
    {
     "ename": "KeyboardInterrupt",
     "evalue": "",
     "output_type": "error",
     "traceback": [
      "\u001b[0;31m---------------------------------------------------------------------------\u001b[0m",
      "\u001b[0;31mKeyboardInterrupt\u001b[0m                         Traceback (most recent call last)",
      "Cell \u001b[0;32mIn[26], line 1\u001b[0m\n\u001b[0;32m----> 1\u001b[0m train_losses, val_losses \u001b[38;5;241m=\u001b[39m \u001b[43mbatch_gd\u001b[49m\u001b[43m(\u001b[49m\u001b[43mmodel\u001b[49m\u001b[43m,\u001b[49m\u001b[43m \u001b[49m\u001b[43mcriterion\u001b[49m\u001b[43m,\u001b[49m\u001b[43m \u001b[49m\u001b[43moptimizer\u001b[49m\u001b[43m,\u001b[49m\u001b[43m \u001b[49m\n\u001b[1;32m      2\u001b[0m \u001b[43m                                    \u001b[49m\u001b[43mtrain_loader\u001b[49m\u001b[43m,\u001b[49m\u001b[43m \u001b[49m\u001b[43mval_loader\u001b[49m\u001b[43m,\u001b[49m\u001b[43m \u001b[49m\u001b[43mepochs\u001b[49m\u001b[38;5;241;43m=\u001b[39;49m\u001b[38;5;241;43m20\u001b[39;49m\u001b[43m)\u001b[49m\n",
      "Cell \u001b[0;32mIn[25], line 51\u001b[0m, in \u001b[0;36mbatch_gd\u001b[0;34m(model, criterion, optimizer, train_loader, test_loader, epochs)\u001b[0m\n\u001b[1;32m     49\u001b[0m loss\u001b[38;5;241m.\u001b[39mbackward()\n\u001b[1;32m     50\u001b[0m torch\u001b[38;5;241m.\u001b[39mnn\u001b[38;5;241m.\u001b[39mutils\u001b[38;5;241m.\u001b[39mclip_grad_norm_(model\u001b[38;5;241m.\u001b[39mparameters(), \u001b[38;5;241m0.5\u001b[39m)\n\u001b[0;32m---> 51\u001b[0m \u001b[43moptimizer\u001b[49m\u001b[38;5;241;43m.\u001b[39;49m\u001b[43mstep\u001b[49m\u001b[43m(\u001b[49m\u001b[43m)\u001b[49m\n\u001b[1;32m     53\u001b[0m train_loss\u001b[38;5;241m.\u001b[39mappend(loss\u001b[38;5;241m.\u001b[39mitem())\n\u001b[1;32m     55\u001b[0m \u001b[38;5;66;03m# Save model every 150000 steps\u001b[39;00m\n",
      "File \u001b[0;32m/opt/anaconda3/envs/python3.8/lib/python3.8/site-packages/torch/optim/optimizer.py:280\u001b[0m, in \u001b[0;36mOptimizer.profile_hook_step.<locals>.wrapper\u001b[0;34m(*args, **kwargs)\u001b[0m\n\u001b[1;32m    276\u001b[0m         \u001b[38;5;28;01melse\u001b[39;00m:\n\u001b[1;32m    277\u001b[0m             \u001b[38;5;28;01mraise\u001b[39;00m \u001b[38;5;167;01mRuntimeError\u001b[39;00m(\u001b[38;5;124mf\u001b[39m\u001b[38;5;124m\"\u001b[39m\u001b[38;5;132;01m{\u001b[39;00mfunc\u001b[38;5;132;01m}\u001b[39;00m\u001b[38;5;124m must return None or a tuple of (new_args, new_kwargs),\u001b[39m\u001b[38;5;124m\"\u001b[39m\n\u001b[1;32m    278\u001b[0m                                \u001b[38;5;124mf\u001b[39m\u001b[38;5;124m\"\u001b[39m\u001b[38;5;124mbut got \u001b[39m\u001b[38;5;132;01m{\u001b[39;00mresult\u001b[38;5;132;01m}\u001b[39;00m\u001b[38;5;124m.\u001b[39m\u001b[38;5;124m\"\u001b[39m)\n\u001b[0;32m--> 280\u001b[0m out \u001b[38;5;241m=\u001b[39m \u001b[43mfunc\u001b[49m\u001b[43m(\u001b[49m\u001b[38;5;241;43m*\u001b[39;49m\u001b[43margs\u001b[49m\u001b[43m,\u001b[49m\u001b[43m \u001b[49m\u001b[38;5;241;43m*\u001b[39;49m\u001b[38;5;241;43m*\u001b[39;49m\u001b[43mkwargs\u001b[49m\u001b[43m)\u001b[49m\n\u001b[1;32m    281\u001b[0m \u001b[38;5;28mself\u001b[39m\u001b[38;5;241m.\u001b[39m_optimizer_step_code()\n\u001b[1;32m    283\u001b[0m \u001b[38;5;66;03m# call optimizer step post hooks\u001b[39;00m\n",
      "File \u001b[0;32m/opt/anaconda3/envs/python3.8/lib/python3.8/site-packages/torch/optim/optimizer.py:33\u001b[0m, in \u001b[0;36m_use_grad_for_differentiable.<locals>._use_grad\u001b[0;34m(self, *args, **kwargs)\u001b[0m\n\u001b[1;32m     31\u001b[0m \u001b[38;5;28;01mtry\u001b[39;00m:\n\u001b[1;32m     32\u001b[0m     torch\u001b[38;5;241m.\u001b[39mset_grad_enabled(\u001b[38;5;28mself\u001b[39m\u001b[38;5;241m.\u001b[39mdefaults[\u001b[38;5;124m'\u001b[39m\u001b[38;5;124mdifferentiable\u001b[39m\u001b[38;5;124m'\u001b[39m])\n\u001b[0;32m---> 33\u001b[0m     ret \u001b[38;5;241m=\u001b[39m \u001b[43mfunc\u001b[49m\u001b[43m(\u001b[49m\u001b[38;5;28;43mself\u001b[39;49m\u001b[43m,\u001b[49m\u001b[43m \u001b[49m\u001b[38;5;241;43m*\u001b[39;49m\u001b[43margs\u001b[49m\u001b[43m,\u001b[49m\u001b[43m \u001b[49m\u001b[38;5;241;43m*\u001b[39;49m\u001b[38;5;241;43m*\u001b[39;49m\u001b[43mkwargs\u001b[49m\u001b[43m)\u001b[49m\n\u001b[1;32m     34\u001b[0m \u001b[38;5;28;01mfinally\u001b[39;00m:\n\u001b[1;32m     35\u001b[0m     torch\u001b[38;5;241m.\u001b[39mset_grad_enabled(prev_grad)\n",
      "File \u001b[0;32m/opt/anaconda3/envs/python3.8/lib/python3.8/site-packages/torch/optim/adam.py:141\u001b[0m, in \u001b[0;36mAdam.step\u001b[0;34m(self, closure)\u001b[0m\n\u001b[1;32m    130\u001b[0m     beta1, beta2 \u001b[38;5;241m=\u001b[39m group[\u001b[38;5;124m'\u001b[39m\u001b[38;5;124mbetas\u001b[39m\u001b[38;5;124m'\u001b[39m]\n\u001b[1;32m    132\u001b[0m     \u001b[38;5;28mself\u001b[39m\u001b[38;5;241m.\u001b[39m_init_group(\n\u001b[1;32m    133\u001b[0m         group,\n\u001b[1;32m    134\u001b[0m         params_with_grad,\n\u001b[0;32m   (...)\u001b[0m\n\u001b[1;32m    138\u001b[0m         max_exp_avg_sqs,\n\u001b[1;32m    139\u001b[0m         state_steps)\n\u001b[0;32m--> 141\u001b[0m     \u001b[43madam\u001b[49m\u001b[43m(\u001b[49m\n\u001b[1;32m    142\u001b[0m \u001b[43m        \u001b[49m\u001b[43mparams_with_grad\u001b[49m\u001b[43m,\u001b[49m\n\u001b[1;32m    143\u001b[0m \u001b[43m        \u001b[49m\u001b[43mgrads\u001b[49m\u001b[43m,\u001b[49m\n\u001b[1;32m    144\u001b[0m \u001b[43m        \u001b[49m\u001b[43mexp_avgs\u001b[49m\u001b[43m,\u001b[49m\n\u001b[1;32m    145\u001b[0m \u001b[43m        \u001b[49m\u001b[43mexp_avg_sqs\u001b[49m\u001b[43m,\u001b[49m\n\u001b[1;32m    146\u001b[0m \u001b[43m        \u001b[49m\u001b[43mmax_exp_avg_sqs\u001b[49m\u001b[43m,\u001b[49m\n\u001b[1;32m    147\u001b[0m \u001b[43m        \u001b[49m\u001b[43mstate_steps\u001b[49m\u001b[43m,\u001b[49m\n\u001b[1;32m    148\u001b[0m \u001b[43m        \u001b[49m\u001b[43mamsgrad\u001b[49m\u001b[38;5;241;43m=\u001b[39;49m\u001b[43mgroup\u001b[49m\u001b[43m[\u001b[49m\u001b[38;5;124;43m'\u001b[39;49m\u001b[38;5;124;43mamsgrad\u001b[39;49m\u001b[38;5;124;43m'\u001b[39;49m\u001b[43m]\u001b[49m\u001b[43m,\u001b[49m\n\u001b[1;32m    149\u001b[0m \u001b[43m        \u001b[49m\u001b[43mbeta1\u001b[49m\u001b[38;5;241;43m=\u001b[39;49m\u001b[43mbeta1\u001b[49m\u001b[43m,\u001b[49m\n\u001b[1;32m    150\u001b[0m \u001b[43m        \u001b[49m\u001b[43mbeta2\u001b[49m\u001b[38;5;241;43m=\u001b[39;49m\u001b[43mbeta2\u001b[49m\u001b[43m,\u001b[49m\n\u001b[1;32m    151\u001b[0m \u001b[43m        \u001b[49m\u001b[43mlr\u001b[49m\u001b[38;5;241;43m=\u001b[39;49m\u001b[43mgroup\u001b[49m\u001b[43m[\u001b[49m\u001b[38;5;124;43m'\u001b[39;49m\u001b[38;5;124;43mlr\u001b[39;49m\u001b[38;5;124;43m'\u001b[39;49m\u001b[43m]\u001b[49m\u001b[43m,\u001b[49m\n\u001b[1;32m    152\u001b[0m \u001b[43m        \u001b[49m\u001b[43mweight_decay\u001b[49m\u001b[38;5;241;43m=\u001b[39;49m\u001b[43mgroup\u001b[49m\u001b[43m[\u001b[49m\u001b[38;5;124;43m'\u001b[39;49m\u001b[38;5;124;43mweight_decay\u001b[39;49m\u001b[38;5;124;43m'\u001b[39;49m\u001b[43m]\u001b[49m\u001b[43m,\u001b[49m\n\u001b[1;32m    153\u001b[0m \u001b[43m        \u001b[49m\u001b[43meps\u001b[49m\u001b[38;5;241;43m=\u001b[39;49m\u001b[43mgroup\u001b[49m\u001b[43m[\u001b[49m\u001b[38;5;124;43m'\u001b[39;49m\u001b[38;5;124;43meps\u001b[39;49m\u001b[38;5;124;43m'\u001b[39;49m\u001b[43m]\u001b[49m\u001b[43m,\u001b[49m\n\u001b[1;32m    154\u001b[0m \u001b[43m        \u001b[49m\u001b[43mmaximize\u001b[49m\u001b[38;5;241;43m=\u001b[39;49m\u001b[43mgroup\u001b[49m\u001b[43m[\u001b[49m\u001b[38;5;124;43m'\u001b[39;49m\u001b[38;5;124;43mmaximize\u001b[39;49m\u001b[38;5;124;43m'\u001b[39;49m\u001b[43m]\u001b[49m\u001b[43m,\u001b[49m\n\u001b[1;32m    155\u001b[0m \u001b[43m        \u001b[49m\u001b[43mforeach\u001b[49m\u001b[38;5;241;43m=\u001b[39;49m\u001b[43mgroup\u001b[49m\u001b[43m[\u001b[49m\u001b[38;5;124;43m'\u001b[39;49m\u001b[38;5;124;43mforeach\u001b[39;49m\u001b[38;5;124;43m'\u001b[39;49m\u001b[43m]\u001b[49m\u001b[43m,\u001b[49m\n\u001b[1;32m    156\u001b[0m \u001b[43m        \u001b[49m\u001b[43mcapturable\u001b[49m\u001b[38;5;241;43m=\u001b[39;49m\u001b[43mgroup\u001b[49m\u001b[43m[\u001b[49m\u001b[38;5;124;43m'\u001b[39;49m\u001b[38;5;124;43mcapturable\u001b[39;49m\u001b[38;5;124;43m'\u001b[39;49m\u001b[43m]\u001b[49m\u001b[43m,\u001b[49m\n\u001b[1;32m    157\u001b[0m \u001b[43m        \u001b[49m\u001b[43mdifferentiable\u001b[49m\u001b[38;5;241;43m=\u001b[39;49m\u001b[43mgroup\u001b[49m\u001b[43m[\u001b[49m\u001b[38;5;124;43m'\u001b[39;49m\u001b[38;5;124;43mdifferentiable\u001b[39;49m\u001b[38;5;124;43m'\u001b[39;49m\u001b[43m]\u001b[49m\u001b[43m,\u001b[49m\n\u001b[1;32m    158\u001b[0m \u001b[43m        \u001b[49m\u001b[43mfused\u001b[49m\u001b[38;5;241;43m=\u001b[39;49m\u001b[43mgroup\u001b[49m\u001b[43m[\u001b[49m\u001b[38;5;124;43m'\u001b[39;49m\u001b[38;5;124;43mfused\u001b[39;49m\u001b[38;5;124;43m'\u001b[39;49m\u001b[43m]\u001b[49m\u001b[43m,\u001b[49m\n\u001b[1;32m    159\u001b[0m \u001b[43m        \u001b[49m\u001b[43mgrad_scale\u001b[49m\u001b[38;5;241;43m=\u001b[39;49m\u001b[38;5;28;43mgetattr\u001b[39;49m\u001b[43m(\u001b[49m\u001b[38;5;28;43mself\u001b[39;49m\u001b[43m,\u001b[49m\u001b[43m \u001b[49m\u001b[38;5;124;43m\"\u001b[39;49m\u001b[38;5;124;43mgrad_scale\u001b[39;49m\u001b[38;5;124;43m\"\u001b[39;49m\u001b[43m,\u001b[49m\u001b[43m \u001b[49m\u001b[38;5;28;43;01mNone\u001b[39;49;00m\u001b[43m)\u001b[49m\u001b[43m,\u001b[49m\n\u001b[1;32m    160\u001b[0m \u001b[43m        \u001b[49m\u001b[43mfound_inf\u001b[49m\u001b[38;5;241;43m=\u001b[39;49m\u001b[38;5;28;43mgetattr\u001b[39;49m\u001b[43m(\u001b[49m\u001b[38;5;28;43mself\u001b[39;49m\u001b[43m,\u001b[49m\u001b[43m \u001b[49m\u001b[38;5;124;43m\"\u001b[39;49m\u001b[38;5;124;43mfound_inf\u001b[39;49m\u001b[38;5;124;43m\"\u001b[39;49m\u001b[43m,\u001b[49m\u001b[43m \u001b[49m\u001b[38;5;28;43;01mNone\u001b[39;49;00m\u001b[43m)\u001b[49m\u001b[43m,\u001b[49m\n\u001b[1;32m    161\u001b[0m \u001b[43m    \u001b[49m\u001b[43m)\u001b[49m\n\u001b[1;32m    163\u001b[0m \u001b[38;5;28;01mreturn\u001b[39;00m loss\n",
      "File \u001b[0;32m/opt/anaconda3/envs/python3.8/lib/python3.8/site-packages/torch/optim/adam.py:281\u001b[0m, in \u001b[0;36madam\u001b[0;34m(params, grads, exp_avgs, exp_avg_sqs, max_exp_avg_sqs, state_steps, foreach, capturable, differentiable, fused, grad_scale, found_inf, amsgrad, beta1, beta2, lr, weight_decay, eps, maximize)\u001b[0m\n\u001b[1;32m    278\u001b[0m \u001b[38;5;28;01melse\u001b[39;00m:\n\u001b[1;32m    279\u001b[0m     func \u001b[38;5;241m=\u001b[39m _single_tensor_adam\n\u001b[0;32m--> 281\u001b[0m \u001b[43mfunc\u001b[49m\u001b[43m(\u001b[49m\u001b[43mparams\u001b[49m\u001b[43m,\u001b[49m\n\u001b[1;32m    282\u001b[0m \u001b[43m     \u001b[49m\u001b[43mgrads\u001b[49m\u001b[43m,\u001b[49m\n\u001b[1;32m    283\u001b[0m \u001b[43m     \u001b[49m\u001b[43mexp_avgs\u001b[49m\u001b[43m,\u001b[49m\n\u001b[1;32m    284\u001b[0m \u001b[43m     \u001b[49m\u001b[43mexp_avg_sqs\u001b[49m\u001b[43m,\u001b[49m\n\u001b[1;32m    285\u001b[0m \u001b[43m     \u001b[49m\u001b[43mmax_exp_avg_sqs\u001b[49m\u001b[43m,\u001b[49m\n\u001b[1;32m    286\u001b[0m \u001b[43m     \u001b[49m\u001b[43mstate_steps\u001b[49m\u001b[43m,\u001b[49m\n\u001b[1;32m    287\u001b[0m \u001b[43m     \u001b[49m\u001b[43mamsgrad\u001b[49m\u001b[38;5;241;43m=\u001b[39;49m\u001b[43mamsgrad\u001b[49m\u001b[43m,\u001b[49m\n\u001b[1;32m    288\u001b[0m \u001b[43m     \u001b[49m\u001b[43mbeta1\u001b[49m\u001b[38;5;241;43m=\u001b[39;49m\u001b[43mbeta1\u001b[49m\u001b[43m,\u001b[49m\n\u001b[1;32m    289\u001b[0m \u001b[43m     \u001b[49m\u001b[43mbeta2\u001b[49m\u001b[38;5;241;43m=\u001b[39;49m\u001b[43mbeta2\u001b[49m\u001b[43m,\u001b[49m\n\u001b[1;32m    290\u001b[0m \u001b[43m     \u001b[49m\u001b[43mlr\u001b[49m\u001b[38;5;241;43m=\u001b[39;49m\u001b[43mlr\u001b[49m\u001b[43m,\u001b[49m\n\u001b[1;32m    291\u001b[0m \u001b[43m     \u001b[49m\u001b[43mweight_decay\u001b[49m\u001b[38;5;241;43m=\u001b[39;49m\u001b[43mweight_decay\u001b[49m\u001b[43m,\u001b[49m\n\u001b[1;32m    292\u001b[0m \u001b[43m     \u001b[49m\u001b[43meps\u001b[49m\u001b[38;5;241;43m=\u001b[39;49m\u001b[43meps\u001b[49m\u001b[43m,\u001b[49m\n\u001b[1;32m    293\u001b[0m \u001b[43m     \u001b[49m\u001b[43mmaximize\u001b[49m\u001b[38;5;241;43m=\u001b[39;49m\u001b[43mmaximize\u001b[49m\u001b[43m,\u001b[49m\n\u001b[1;32m    294\u001b[0m \u001b[43m     \u001b[49m\u001b[43mcapturable\u001b[49m\u001b[38;5;241;43m=\u001b[39;49m\u001b[43mcapturable\u001b[49m\u001b[43m,\u001b[49m\n\u001b[1;32m    295\u001b[0m \u001b[43m     \u001b[49m\u001b[43mdifferentiable\u001b[49m\u001b[38;5;241;43m=\u001b[39;49m\u001b[43mdifferentiable\u001b[49m\u001b[43m,\u001b[49m\n\u001b[1;32m    296\u001b[0m \u001b[43m     \u001b[49m\u001b[43mgrad_scale\u001b[49m\u001b[38;5;241;43m=\u001b[39;49m\u001b[43mgrad_scale\u001b[49m\u001b[43m,\u001b[49m\n\u001b[1;32m    297\u001b[0m \u001b[43m     \u001b[49m\u001b[43mfound_inf\u001b[49m\u001b[38;5;241;43m=\u001b[39;49m\u001b[43mfound_inf\u001b[49m\u001b[43m)\u001b[49m\n",
      "File \u001b[0;32m/opt/anaconda3/envs/python3.8/lib/python3.8/site-packages/torch/optim/adam.py:494\u001b[0m, in \u001b[0;36m_multi_tensor_adam\u001b[0;34m(params, grads, exp_avgs, exp_avg_sqs, max_exp_avg_sqs, state_steps, grad_scale, found_inf, amsgrad, beta1, beta2, lr, weight_decay, eps, maximize, capturable, differentiable)\u001b[0m\n\u001b[1;32m    490\u001b[0m bias_correction2 \u001b[38;5;241m=\u001b[39m [\u001b[38;5;241m1\u001b[39m \u001b[38;5;241m-\u001b[39m beta2 \u001b[38;5;241m*\u001b[39m\u001b[38;5;241m*\u001b[39m _get_value(step) \u001b[38;5;28;01mfor\u001b[39;00m step \u001b[38;5;129;01min\u001b[39;00m device_state_steps]\n\u001b[1;32m    492\u001b[0m step_size \u001b[38;5;241m=\u001b[39m _stack_if_compiling([(lr \u001b[38;5;241m/\u001b[39m bc) \u001b[38;5;241m*\u001b[39m \u001b[38;5;241m-\u001b[39m\u001b[38;5;241m1\u001b[39m \u001b[38;5;28;01mfor\u001b[39;00m bc \u001b[38;5;129;01min\u001b[39;00m bias_correction1])\n\u001b[0;32m--> 494\u001b[0m bias_correction2_sqrt \u001b[38;5;241m=\u001b[39m [_dispatch_sqrt(bc) \u001b[38;5;28;01mfor\u001b[39;00m bc \u001b[38;5;129;01min\u001b[39;00m bias_correction2]\n\u001b[1;32m    496\u001b[0m \u001b[38;5;28;01mif\u001b[39;00m amsgrad:\n\u001b[1;32m    497\u001b[0m     \u001b[38;5;66;03m# Maintains the maximum of all 2nd moment running avg. till now\u001b[39;00m\n\u001b[1;32m    498\u001b[0m     torch\u001b[38;5;241m.\u001b[39m_foreach_maximum_(device_max_exp_avg_sqs, device_exp_avg_sqs)\n",
      "File \u001b[0;32m/opt/anaconda3/envs/python3.8/lib/python3.8/site-packages/torch/optim/adam.py:494\u001b[0m, in \u001b[0;36m<listcomp>\u001b[0;34m(.0)\u001b[0m\n\u001b[1;32m    490\u001b[0m bias_correction2 \u001b[38;5;241m=\u001b[39m [\u001b[38;5;241m1\u001b[39m \u001b[38;5;241m-\u001b[39m beta2 \u001b[38;5;241m*\u001b[39m\u001b[38;5;241m*\u001b[39m _get_value(step) \u001b[38;5;28;01mfor\u001b[39;00m step \u001b[38;5;129;01min\u001b[39;00m device_state_steps]\n\u001b[1;32m    492\u001b[0m step_size \u001b[38;5;241m=\u001b[39m _stack_if_compiling([(lr \u001b[38;5;241m/\u001b[39m bc) \u001b[38;5;241m*\u001b[39m \u001b[38;5;241m-\u001b[39m\u001b[38;5;241m1\u001b[39m \u001b[38;5;28;01mfor\u001b[39;00m bc \u001b[38;5;129;01min\u001b[39;00m bias_correction1])\n\u001b[0;32m--> 494\u001b[0m bias_correction2_sqrt \u001b[38;5;241m=\u001b[39m [\u001b[43m_dispatch_sqrt\u001b[49m\u001b[43m(\u001b[49m\u001b[43mbc\u001b[49m\u001b[43m)\u001b[49m \u001b[38;5;28;01mfor\u001b[39;00m bc \u001b[38;5;129;01min\u001b[39;00m bias_correction2]\n\u001b[1;32m    496\u001b[0m \u001b[38;5;28;01mif\u001b[39;00m amsgrad:\n\u001b[1;32m    497\u001b[0m     \u001b[38;5;66;03m# Maintains the maximum of all 2nd moment running avg. till now\u001b[39;00m\n\u001b[1;32m    498\u001b[0m     torch\u001b[38;5;241m.\u001b[39m_foreach_maximum_(device_max_exp_avg_sqs, device_exp_avg_sqs)\n",
      "\u001b[0;31mKeyboardInterrupt\u001b[0m: "
     ]
    }
   ],
   "source": [
    "train_losses, val_losses = batch_gd(model, criterion, optimizer, \n",
    "                                    train_loader, val_loader, epochs=20)"
   ]
  },
  {
   "cell_type": "code",
   "execution_count": null,
   "metadata": {
    "execution": {
     "iopub.status.busy": "2023-06-01T10:40:21.145015Z",
     "iopub.status.idle": "2023-06-01T10:40:21.145211Z",
     "shell.execute_reply": "2023-06-01T10:40:21.145120Z",
     "shell.execute_reply.started": "2023-06-01T10:40:21.145109Z"
    },
    "tags": []
   },
   "outputs": [],
   "source": [
    "plt.figure()\n",
    "plt.plot(train_losses[0:30], label='train loss')\n",
    "plt.plot(val_losses[0:30], label='validation loss')\n",
    "plt.legend()"
   ]
  },
  {
   "cell_type": "markdown",
   "metadata": {},
   "source": [
    "# 测试模型"
   ]
  },
  {
   "cell_type": "code",
   "execution_count": null,
   "metadata": {
    "execution": {
     "iopub.execute_input": "2023-06-01T12:00:03.824718Z",
     "iopub.status.busy": "2023-06-01T12:00:03.823720Z"
    },
    "tags": []
   },
   "outputs": [],
   "source": [
    "model = Res50Transformer(num_classes = 3)\n",
    "model.to(device);\n",
    "state_dict = torch.load(f'./Res50Transformer_checkpoints_label40_new/Res50Transformer_140000.pth', map_location=device)\n",
    "# state_dict = torch.load(f'./checkpoints/transformer_334000.pth', map_location=device)\n",
    "model.load_state_dict(state_dict)\n",
    "model.eval()\n",
    "all_targets = []\n",
    "all_predictions = []\n",
    "\n",
    "for inputs, targets in test_loader:\n",
    "    # Move to GPU\n",
    "    inputs, targets = inputs.to(device, dtype=torch.float), targets.to(device, dtype=torch.int64)\n",
    "\n",
    "    # Forward pass\n",
    "    outputs = model(inputs)\n",
    "    \n",
    "    # Get prediction\n",
    "    # torch.max returns both max and argmax\n",
    "    _, predictions = torch.max(outputs, 1)\n",
    "\n",
    "    all_targets.append(targets.cpu().numpy())\n",
    "    all_predictions.append(predictions.cpu().numpy())\n",
    "\n",
    "all_targets = np.concatenate(all_targets)    \n",
    "all_predictions = np.concatenate(all_predictions)    \n",
    "print('accuracy_score:', accuracy_score(all_targets, all_predictions))\n",
    "print(classification_report(all_targets, all_predictions, digits=4))"
   ]
  },
  {
   "cell_type": "code",
   "execution_count": null,
   "metadata": {
    "execution": {
     "iopub.status.busy": "2023-06-01T10:40:21.147120Z",
     "iopub.status.idle": "2023-06-01T10:40:21.147325Z",
     "shell.execute_reply": "2023-06-01T10:40:21.147229Z",
     "shell.execute_reply.started": "2023-06-01T10:40:21.147218Z"
    },
    "scrolled": true,
    "tags": []
   },
   "outputs": [],
   "source": [
    "# model = torch.load('best_val_model_pytorch',map_location=device)\n",
    "all_targets = []\n",
    "all_predictions = []\n",
    "\n",
    "for inputs, targets in train_loader:\n",
    "\n",
    "    # Forward pass\n",
    "    outputs = model(inputs)\n",
    "    \n",
    "    # Get prediction\n",
    "    # torch.max returns both max and argmax\n",
    "    _, predictions = torch.max(outputs, 1)\n",
    "\n",
    "    all_targets.append(targets.cpu().numpy())\n",
    "    all_predictions.append(predictions.cpu().numpy())\n",
    "\n",
    "all_targets = np.concatenate(all_targets)    \n",
    "all_predictions = np.concatenate(all_predictions) \n",
    "print('accuracy_score:', accuracy_score(all_targets, all_predictions))\n",
    "print(classification_report(all_targets, all_predictions, digits=4))"
   ]
  },
  {
   "cell_type": "code",
   "execution_count": null,
   "metadata": {},
   "outputs": [],
   "source": []
  },
  {
   "cell_type": "code",
   "execution_count": null,
   "metadata": {},
   "outputs": [],
   "source": []
  },
  {
   "cell_type": "code",
   "execution_count": null,
   "metadata": {},
   "outputs": [],
   "source": []
  }
 ],
 "metadata": {
  "kernelspec": {
   "display_name": "Python 3 (ipykernel)",
   "language": "python",
   "name": "python3"
  },
  "language_info": {
   "codemirror_mode": {
    "name": "ipython",
    "version": 3
   },
   "file_extension": ".py",
   "mimetype": "text/x-python",
   "name": "python",
   "nbconvert_exporter": "python",
   "pygments_lexer": "ipython3",
   "version": "3.8.13"
  },
  "varInspector": {
   "cols": {
    "lenName": 16,
    "lenType": 16,
    "lenVar": 40
   },
   "kernels_config": {
    "python": {
     "delete_cmd_postfix": "",
     "delete_cmd_prefix": "del ",
     "library": "var_list.py",
     "varRefreshCmd": "print(var_dic_list())"
    },
    "r": {
     "delete_cmd_postfix": ") ",
     "delete_cmd_prefix": "rm(",
     "library": "var_list.r",
     "varRefreshCmd": "cat(var_dic_list()) "
    }
   },
   "types_to_exclude": [
    "module",
    "function",
    "builtin_function_or_method",
    "instance",
    "_Feature"
   ],
   "window_display": false
  }
 },
 "nbformat": 4,
 "nbformat_minor": 4
}
