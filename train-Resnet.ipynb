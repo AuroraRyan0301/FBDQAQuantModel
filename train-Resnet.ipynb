{
 "cells": [
  {
   "cell_type": "code",
   "execution_count": 1,
   "metadata": {
    "execution": {
     "iopub.execute_input": "2023-05-30T06:20:11.549253Z",
     "iopub.status.busy": "2023-05-30T06:20:11.547711Z",
     "iopub.status.idle": "2023-05-30T06:20:15.779384Z",
     "shell.execute_reply": "2023-05-30T06:20:15.778011Z",
     "shell.execute_reply.started": "2023-05-30T06:20:11.549156Z"
    },
    "tags": []
   },
   "outputs": [],
   "source": [
    "import os\n",
    "import pandas as pd\n",
    "import pickle\n",
    "import numpy as np\n",
    "import matplotlib.pyplot as plt\n",
    "from datetime import datetime\n",
    "from tqdm import tqdm \n",
    "from sklearn.metrics import accuracy_score, classification_report\n",
    "import torchvision.models as models\n",
    "\n",
    "import torch\n",
    "import torch.nn.functional as F\n",
    "from torch.utils import data\n",
    "from torchinfo import summary\n",
    "import torch.nn as nn\n",
    "import torch.optim as optim\n",
    "import re\n",
    "import tsfresh as tsf"
   ]
  },
  {
   "cell_type": "markdown",
   "metadata": {},
   "source": [
    "# 读取数据"
   ]
  },
  {
   "cell_type": "code",
   "execution_count": 2,
   "metadata": {
    "execution": {
     "iopub.execute_input": "2023-05-30T06:20:15.780961Z",
     "iopub.status.busy": "2023-05-30T06:20:15.780765Z",
     "iopub.status.idle": "2023-05-30T06:20:26.975848Z",
     "shell.execute_reply": "2023-05-30T06:20:26.974337Z",
     "shell.execute_reply.started": "2023-05-30T06:20:15.780942Z"
    },
    "tags": []
   },
   "outputs": [],
   "source": [
    "files_path = './FBDQA2021A_MMP_Challenge/train_data.csv'\n",
    "df =  pd.read_csv(files_path)\n",
    "df = df.sort_values(by=['sym','date','date_time'])"
   ]
  },
  {
   "cell_type": "code",
   "execution_count": 3,
   "metadata": {
    "execution": {
     "iopub.execute_input": "2023-05-30T06:20:26.977335Z",
     "iopub.status.busy": "2023-05-30T06:20:26.977115Z",
     "iopub.status.idle": "2023-05-30T06:20:26.982651Z",
     "shell.execute_reply": "2023-05-30T06:20:26.981549Z",
     "shell.execute_reply.started": "2023-05-30T06:20:26.977314Z"
    }
   },
   "outputs": [],
   "source": [
    "# #动量因子\n",
    "# def MOM(close_price, n):\n",
    "#     return pd.Series(close_price).diff(n)\n",
    "# #均线因子\n",
    "# def MA(close_price, n):\n",
    "#     return pd.Series(close_price).rolling(n).mean()\n",
    "# #相对强弱指标：\n",
    "# def RSI(close_price, n):\n",
    "#     diff = pd.Series(close_price).diff()\n",
    "#     up, down = diff.copy(), diff.copy()\n",
    "#     up[up < 0] = 0\n",
    "#     down[down > 0] = 0\n",
    "#     up_sma = up.rolling(n).mean()\n",
    "#     down_sma = abs(down.rolling(n).mean())\n",
    "#     rs = up_sma / down_sma\n",
    "#     return 100 - (100 / (1 + rs))\n",
    "# #布林带指标\n",
    "# def BBANDS(close_price, n):\n",
    "#     ma = pd.Series(close_price).rolling(n).mean()\n",
    "#     std = pd.Series(close_price).rolling(n).std()\n",
    "#     upper_band = ma + 2 * std\n",
    "#     lower_band = ma - 2 * std\n",
    "#     # print(upper_band)\n",
    "#     return upper_band, lower_band\n",
    "\n"
   ]
  },
  {
   "cell_type": "code",
   "execution_count": 4,
   "metadata": {
    "execution": {
     "iopub.execute_input": "2023-05-30T06:20:26.983354Z",
     "iopub.status.busy": "2023-05-30T06:20:26.983191Z",
     "iopub.status.idle": "2023-05-30T06:20:31.275268Z",
     "shell.execute_reply": "2023-05-30T06:20:31.273798Z",
     "shell.execute_reply.started": "2023-05-30T06:20:26.983337Z"
    },
    "tags": []
   },
   "outputs": [],
   "source": [
    "df['spread1'] =  df['ask1'] - df['bid1']\n",
    "df['spread2'] =  df['ask2'] - df['bid2']\n",
    "df['spread3'] =  df['ask3'] - df['bid3']\n",
    "df['mid_price1'] =  df['ask1'] + df['bid1']\n",
    "df['mid_price2'] =  df['ask2'] + df['bid2']\n",
    "df['mid_price3'] =  df['ask3'] + df['bid3']\n",
    "\n",
    "# 价格+1（从涨跌幅还原到对前收盘价的比例）\n",
    "df['bid1'] = df['bid1']+1\n",
    "df['bid2'] = df['bid2']+1\n",
    "df['bid3'] = df['bid3']+1\n",
    "df['bid4'] = df['bid4']+1\n",
    "df['bid5'] = df['bid5']+1\n",
    "df['ask1'] = df['ask1']+1\n",
    "df['ask2'] = df['ask2']+1\n",
    "df['ask3'] = df['ask3']+1\n",
    "df['ask4'] = df['ask4']+1\n",
    "df['ask5'] = df['ask5']+1\n",
    "\n",
    "# 量价组合\n",
    "df['weighted_ab1'] = (df['ask1'] * df['bsize1'] + df['bid1'] * df['asize1']) / (df['bsize1'] + df['asize1'])\n",
    "df['weighted_ab2'] = (df['ask2'] * df['bsize2'] + df['bid2'] * df['asize2']) / (df['bsize2'] + df['asize2'])\n",
    "df['weighted_ab3'] = (df['ask3'] * df['bsize3'] + df['bid3'] * df['asize3']) / (df['bsize3'] + df['asize3'])\n",
    "\n",
    "df['vol1_rel_diff']   = (df['bsize1'] - df['asize1']) / (df['bsize1'] + df['asize1'])\n",
    "df['volall_rel_diff'] = (df['bsize1'] + df['bsize2'] + df['bsize3'] + df['bsize4'] + df['bsize5'] \\\n",
    "                 - df['asize1'] - df['asize2'] - df['asize3'] - df['asize4'] - df['asize5'] ) / \\\n",
    "                 ( df['bsize1'] + df['bsize2'] + df['bsize3'] + df['bsize4'] + df['bsize5'] \\\n",
    "                 + df['asize1'] + df['asize2'] + df['asize3'] + df['asize4'] + df['asize5'] )\n",
    "\n",
    "df['amount'] = df['amount_delta'].map(np.log1p)\n",
    "\n",
    "# 价格还原\n",
    "df['bid1'] = df['bid1']-1\n",
    "df['bid2'] = df['bid2']-1\n",
    "df['bid3'] = df['bid3']-1\n",
    "df['bid4'] = df['bid4']-1\n",
    "df['bid5'] = df['bid5']-1\n",
    "df['ask1'] = df['ask1']-1\n",
    "df['ask2'] = df['ask2']-1\n",
    "df['ask3'] = df['ask3']-1\n",
    "df['ask4'] = df['ask4']-1\n",
    "df['ask5'] = df['ask5']-1\n",
    "\n",
    "# #动量因子\n",
    "\n",
    "# df['mom1'] = MOM(df['close'], 1)\n",
    "# df['mom5'] = MOM(df['close'], 5)\n",
    "# df['mom10'] = MOM(df['close'], 10)\n",
    "# df['mom20'] = MOM(df['close'], 20)\n",
    "\n",
    "# #均线因子\n",
    "# df['ma5'] = MA(df['close'], 5)\n",
    "# df['ma10'] = MA(df['close'], 10)\n",
    "# df['ma20']= MA(df['close'], 20)\n",
    "# df['ma60'] = MA(df['close'], 60)\n",
    "\n",
    "# #相对强弱指标\n",
    "# df[\"rsi6\"] = RSI(df['close'], 6)\n",
    "# df[\"rsi12\"] = RSI(df['close'], 12)\n",
    "# df[\"rsi24\"] = RSI(df['close'], 24)\n",
    "\n",
    "# #布林带\n",
    "# upper_band20, lower_band20 = BBANDS(df['close'], 20)\n",
    "# df['upper_band20']= upper_band20 \n",
    "# df['lower_band20']= lower_band20 \n",
    "# upper_band60, lower_band60 = BBANDS(df['close'], 60)\n",
    "# df['upper_band60']= upper_band60 \n",
    "# df['lower_band60']= lower_band60 \n"
   ]
  },
  {
   "cell_type": "code",
   "execution_count": 5,
   "metadata": {
    "execution": {
     "iopub.execute_input": "2023-05-30T06:20:31.277348Z",
     "iopub.status.busy": "2023-05-30T06:20:31.277144Z",
     "iopub.status.idle": "2023-05-30T06:20:31.281733Z",
     "shell.execute_reply": "2023-05-30T06:20:31.280797Z",
     "shell.execute_reply.started": "2023-05-30T06:20:31.277330Z"
    }
   },
   "outputs": [],
   "source": [
    "\n",
    "# #价量趋势 这个会报错\n",
    "# def PVT(close_price, amount_delta):\n",
    "#     pvt = amount_delta * pd.Series(close_price).pct_change()\n",
    "#     return pvt.cumsum()\n",
    "\n",
    "# df['pvt'] = PVT(df['close'], df['amount_delta'])\n",
    "\n",
    "#能量指标\n",
    "# def EV(close_price, amount_delta, n):\n",
    "#     return pd.Series(close_price.diff() * amount_delta.diff()).rolling(n).sum()\n",
    "\n",
    "# df['ev5'] = EV(df['close'], df['amount_delta'], 5)\n",
    "# df['ev10'] = EV(df['close'], df['amount_delta'], 10)\n",
    "# df['ev20']= EV(df['close'], df['amount_delta'], 20)"
   ]
  },
  {
   "cell_type": "code",
   "execution_count": 6,
   "metadata": {
    "execution": {
     "iopub.execute_input": "2023-05-30T06:20:31.282426Z",
     "iopub.status.busy": "2023-05-30T06:20:31.282262Z",
     "iopub.status.idle": "2023-05-30T06:20:31.286905Z",
     "shell.execute_reply": "2023-05-30T06:20:31.285982Z",
     "shell.execute_reply.started": "2023-05-30T06:20:31.282410Z"
    },
    "tags": []
   },
   "outputs": [],
   "source": [
    "# # tsfresh 挖掘因子\n",
    "# param = [{'aggtype': 'centroid'}]\n",
    "# data2pd= pd.Series(df['bsize5'])\n",
    "\n",
    "\n",
    "# fft_col=tsf.feature_extraction.feature_calculators.fft_aggregated(data2pd, param)\n",
    "# print(list(fft_col)[0][1])"
   ]
  },
  {
   "cell_type": "code",
   "execution_count": 7,
   "metadata": {
    "execution": {
     "iopub.execute_input": "2023-05-30T06:20:31.287530Z",
     "iopub.status.busy": "2023-05-30T06:20:31.287377Z",
     "iopub.status.idle": "2023-05-30T06:20:31.292002Z",
     "shell.execute_reply": "2023-05-30T06:20:31.290888Z",
     "shell.execute_reply.started": "2023-05-30T06:20:31.287515Z"
    },
    "tags": []
   },
   "outputs": [],
   "source": [
    "# print(list(fft_col))"
   ]
  },
  {
   "cell_type": "code",
   "execution_count": 8,
   "metadata": {
    "execution": {
     "iopub.execute_input": "2023-05-30T06:20:31.292940Z",
     "iopub.status.busy": "2023-05-30T06:20:31.292745Z",
     "iopub.status.idle": "2023-05-30T06:20:31.297093Z",
     "shell.execute_reply": "2023-05-30T06:20:31.296120Z",
     "shell.execute_reply.started": "2023-05-30T06:20:31.292921Z"
    },
    "tags": []
   },
   "outputs": [],
   "source": [
    "# print(len(data2pd))\n",
    "# print(len(data2pd.index))"
   ]
  },
  {
   "cell_type": "code",
   "execution_count": 9,
   "metadata": {
    "execution": {
     "iopub.execute_input": "2023-05-30T06:20:31.298088Z",
     "iopub.status.busy": "2023-05-30T06:20:31.297899Z",
     "iopub.status.idle": "2023-05-30T06:20:31.304183Z",
     "shell.execute_reply": "2023-05-30T06:20:31.303135Z",
     "shell.execute_reply.started": "2023-05-30T06:20:31.298070Z"
    },
    "tags": []
   },
   "outputs": [],
   "source": [
    "feature_col_names = ['bid1','bsize1',\n",
    "                     'bid2','bsize2',\n",
    "                     'bid3','bsize3',\n",
    "                     'bid4','bsize4',\n",
    "                     'bid5','bsize5',\n",
    "                     'ask1','asize1',\n",
    "                     'ask2','asize2',\n",
    "                     'ask3','asize3',\n",
    "                     'ask4','asize4',\n",
    "                     'ask5','asize5',\n",
    "                     'spread1','mid_price1',\n",
    "                     'spread2','mid_price2',\n",
    "                     'spread3','mid_price3',\n",
    "                     'weighted_ab1','weighted_ab2','weighted_ab3','amount',\n",
    "                     'vol1_rel_diff','volall_rel_diff',\n",
    "                    ]\n",
    "label_col_name = ['label_40']"
   ]
  },
  {
   "cell_type": "code",
   "execution_count": 10,
   "metadata": {
    "execution": {
     "iopub.execute_input": "2023-05-30T06:20:31.305489Z",
     "iopub.status.busy": "2023-05-30T06:20:31.305221Z",
     "iopub.status.idle": "2023-05-30T06:20:32.297610Z",
     "shell.execute_reply": "2023-05-30T06:20:32.296555Z",
     "shell.execute_reply.started": "2023-05-30T06:20:31.305463Z"
    },
    "tags": []
   },
   "outputs": [
    {
     "name": "stdout",
     "output_type": "stream",
     "text": [
      "train_date_nums: 63, val_date_nums: 8, test_date_nums: 8\n"
     ]
    }
   ],
   "source": [
    "n = len(df['date'].unique())\n",
    "\n",
    "# ##划分训练/测试集\n",
    "train_nums = int(n*0.8 + 0.5)\n",
    "val_nums = int(n*0.1 + 0.5)\n",
    "print(f'train_date_nums: {train_nums}, val_date_nums: {val_nums}, test_date_nums: {n-train_nums-val_nums}')\n",
    "train_data = df[df.date < train_nums]\n",
    "val_data = df[(df.date >= train_nums) & (df.date < train_nums+val_nums)]\n",
    "test_data = df[df.date >= train_nums+val_nums]"
   ]
  },
  {
   "cell_type": "markdown",
   "metadata": {},
   "source": [
    "## GPU准备"
   ]
  },
  {
   "cell_type": "code",
   "execution_count": 11,
   "metadata": {
    "execution": {
     "iopub.execute_input": "2023-05-30T06:20:32.298770Z",
     "iopub.status.busy": "2023-05-30T06:20:32.298579Z",
     "iopub.status.idle": "2023-05-30T06:20:32.318121Z",
     "shell.execute_reply": "2023-05-30T06:20:32.317117Z",
     "shell.execute_reply.started": "2023-05-30T06:20:32.298753Z"
    },
    "tags": []
   },
   "outputs": [
    {
     "name": "stdout",
     "output_type": "stream",
     "text": [
      "cuda:0\n"
     ]
    }
   ],
   "source": [
    "device = torch.device(\"cuda:0\" if torch.cuda.is_available() else \"cpu\")\n",
    "print(device)"
   ]
  },
  {
   "cell_type": "code",
   "execution_count": 12,
   "metadata": {
    "execution": {
     "iopub.execute_input": "2023-05-30T06:20:32.318814Z",
     "iopub.status.busy": "2023-05-30T06:20:32.318649Z",
     "iopub.status.idle": "2023-05-30T06:20:32.323266Z",
     "shell.execute_reply": "2023-05-30T06:20:32.322306Z",
     "shell.execute_reply.started": "2023-05-30T06:20:32.318797Z"
    },
    "tags": []
   },
   "outputs": [],
   "source": [
    "# # 绝对傅里叶变换的谱统计量\n",
    "# def fft_aggregated_transform(df):\n",
    "#     # tsfresh 挖掘因子\n",
    "#     param = [{'aggtype': 'centroid'}]\n",
    "#     data2pd= pd.Series(df)\n",
    "\n",
    "    \n",
    "#     fft=list(tsf.feature_extraction.feature_calculators.fft_aggregated(data2pd, param))\n",
    "    \n",
    "#     return list(fft)[0][1]\n",
    "\n",
    "# def fourier_entropy_transform(df):\n",
    "#     ts = pd.Series(df)  #数据x假设已经获取\n",
    "#     ae=tsf.feature_extraction.feature_calculators.fourier_entropy(ts,bins=10)\n",
    "#     # print(\"fentropy{}\".format(ae))\n",
    "#     return ae"
   ]
  },
  {
   "cell_type": "code",
   "execution_count": 13,
   "metadata": {
    "execution": {
     "iopub.execute_input": "2023-05-30T06:20:32.323913Z",
     "iopub.status.busy": "2023-05-30T06:20:32.323756Z",
     "iopub.status.idle": "2023-05-30T06:20:32.328628Z",
     "shell.execute_reply": "2023-05-30T06:20:32.327696Z",
     "shell.execute_reply.started": "2023-05-30T06:20:32.323897Z"
    },
    "tags": []
   },
   "outputs": [],
   "source": [
    "# def new_fft_lines(X,T):\n",
    "#     X['fft'] = 0  # 初始化所有行的fft列为0\n",
    "#     for i in range(T-1, len(X)):\n",
    "#         X.iloc[i, X.columns.get_loc('fft')] = fft_aggregated_transform(X.iloc[(i-T+1):i, X.columns.get_loc('bsize5')])\n",
    "#     return X\n",
    "# def new_belowcount_lines(X,T):\n",
    "#     X['belowcount'] = 0  # 初始化所有行的fft列为0\n",
    "#     for i in range(T-1, len(X)):\n",
    "#         X.iloc[i, X.columns.get_loc('belowcount')] = count_below_mean_transform(X.iloc[(i-T+1):i, X.columns.get_loc('belowcount')])\n",
    "#     return np.abs(X-50)\n",
    "# def new_abovecount_lines(X,T):\n",
    "#     X['abovecount'] = 0  # 初始化所有行的fft列为0\n",
    "#     for i in range(T-1, len(X)):\n",
    "#         X.iloc[i, X.columns.get_loc('abovecount')] = count_above_mean_transform(X.iloc[(i-T+1):i, X.columns.get_loc('abovecount')])\n",
    "#     return np.abs(X-50)\n",
    "# def new_cwt_peaks_lines(X,T):\n",
    "#     X['number_cwt_peaks'] = 0  # 初始化所有行的fft列为0\n",
    "#     for i in range(T-1, len(X)):\n",
    "#         X.iloc[i, X.columns.get_loc('number_cwt_peaks')] = number_cwt_peaks_transform(X.iloc[(i-T+1):i, X.columns.get_loc('number_cwt_peaks')])\n",
    "#     return X\n",
    "# def"
   ]
  },
  {
   "cell_type": "code",
   "execution_count": 14,
   "metadata": {
    "execution": {
     "iopub.execute_input": "2023-05-30T06:20:32.332182Z",
     "iopub.status.busy": "2023-05-30T06:20:32.331973Z",
     "iopub.status.idle": "2023-05-30T06:20:32.337200Z",
     "shell.execute_reply": "2023-05-30T06:20:32.336060Z",
     "shell.execute_reply.started": "2023-05-30T06:20:32.332163Z"
    },
    "tags": []
   },
   "outputs": [],
   "source": [
    "# def new_lines(X,T):\n",
    "#     # X['bid2_cwt_peaks'] = 0  # 初始化所有行的fft列为0\n",
    "#     # X['bid4_cwt_peaks'] = 0  # 初始化所有行的fft列为0\n",
    "#     # X['bid5_cwt_peaks'] = 0  # 初始化所有行的fft列为0\n",
    "#     # X['abovecount'] = 0  # 初始化所有行的fft列为0\n",
    "#     # X['belowcount'] = 0  # 初始化所有行的fft列为0\n",
    "#     X['fft'] = 0  # 初始化所有行的fft列为0\n",
    "#     X['bsize1_fourier_entropy'] = 0\n",
    "#     X['bsize3_fourier_entropy'] = 0\n",
    "    \n",
    "#     for i in range(T-1, len(X)):\n",
    "#         X.iloc[i, X.columns.get_loc('fft')] = fft_aggregated_transform(X.iloc[(i-T+1):i, X.columns.get_loc('bsize5')])\n",
    "#         # X.iloc[i, X.columns.get_loc('belowcount')] = count_below_mean_transform(X.iloc[(i-T+1):i, X.columns.get_loc('asize5')])\n",
    "#         # X.iloc[i, X.columns.get_loc('abovecount')] = count_above_mean_transform(X.iloc[(i-T+1):i, X.columns.get_loc('asize5')])\n",
    "#         # X.iloc[i, X.columns.get_loc('bid2_cwt_peaks')] = number_cwt_peaks_transform(X.iloc[(i-T+1):i, X.columns.get_loc('bid2')])\n",
    "#         # X.iloc[i, X.columns.get_loc('bid4_cwt_peaks')] = number_cwt_peaks_transform(X.iloc[(i-T+1):i, X.columns.get_loc('bid4')])\n",
    "#         # X.iloc[i, X.columns.get_loc('bid5_cwt_peaks')] = number_cwt_peaks_transform(X.iloc[(i-T+1):i, X.columns.get_loc('bid5')])\n",
    "#         X.iloc[i, X.columns.get_loc('bsize1_fourier_entropy')] = fourier_entropy_transform(X.iloc[(i-T+1):i, X.columns.get_loc('bsize1')])\n",
    "#         X.iloc[i, X.columns.get_loc('bsize3_fourier_entropy')] = fourier_entropy_transform(X.iloc[(i-T+1):i, X.columns.get_loc('bsize3')])\n",
    "\n",
    "        \n",
    "#     return X"
   ]
  },
  {
   "cell_type": "markdown",
   "metadata": {},
   "source": [
    "## 准备dataset"
   ]
  },
  {
   "cell_type": "code",
   "execution_count": 15,
   "metadata": {
    "execution": {
     "iopub.execute_input": "2023-05-30T06:20:32.338216Z",
     "iopub.status.busy": "2023-05-30T06:20:32.338020Z",
     "iopub.status.idle": "2023-05-30T06:20:32.343783Z",
     "shell.execute_reply": "2023-05-30T06:20:32.342621Z",
     "shell.execute_reply.started": "2023-05-30T06:20:32.338197Z"
    },
    "tags": []
   },
   "outputs": [],
   "source": [
    "def data_transform(X, T):\n",
    "    \n",
    "    [N, D] = X.shape\n",
    "    dataX = np.zeros((N - T + 1, T, D))\n",
    "    for i in range(T, N + 1):\n",
    "        dataX[i - T] = X[i - T:i, :]\n",
    "    return dataX.tolist()"
   ]
  },
  {
   "cell_type": "code",
   "execution_count": 16,
   "metadata": {
    "execution": {
     "iopub.execute_input": "2023-05-30T06:20:32.344904Z",
     "iopub.status.busy": "2023-05-30T06:20:32.344685Z",
     "iopub.status.idle": "2023-05-30T06:20:32.354039Z",
     "shell.execute_reply": "2023-05-30T06:20:32.352873Z",
     "shell.execute_reply.started": "2023-05-30T06:20:32.344883Z"
    },
    "tags": []
   },
   "outputs": [],
   "source": [
    "class Dataset(data.Dataset):\n",
    "    def __init__(self, data, num_classes, T):\n",
    "        self.T = T\n",
    "        \n",
    "        dates = data['date'].unique()\n",
    "        syms = data['sym'].unique()\n",
    "        data_result = []\n",
    "        label_result = []\n",
    "        for sym in syms:\n",
    "            for date in dates:\n",
    "                sym_date_df = data[(data.sym == sym)&(data.date == date)].copy()\n",
    "                if len(sym_date_df) == 0:\n",
    "                    continue\n",
    "                #下面为tsfresh 特殊变换\n",
    "                # print(sym_date_df['bsize5'])\n",
    "                # sym_date_df = new_lines(sym_date_df,self.T)\n",
    "#                 print(type(sym_date_df))\n",
    "                \n",
    "                data_result += data_transform(sym_date_df[feature_col_names].values, self.T)\n",
    "                label_result += sym_date_df[label_col_name][T - 1:].values.tolist()\n",
    "                \n",
    "        self.x = torch.tensor(data_result).to(torch.float32).unsqueeze(1).to(device)\n",
    "        label_result = np.array(label_result).reshape(-1)\n",
    "        self.y = torch.tensor(label_result.astype(np.int64)).to(device)\n",
    "        \n",
    "        self.length = len(self.x)\n",
    "\n",
    "    def __len__(self):\n",
    "        return self.length\n",
    "\n",
    "    def __getitem__(self, index):\n",
    "        return self.x[index], self.y[index]"
   ]
  },
  {
   "cell_type": "code",
   "execution_count": 17,
   "metadata": {
    "execution": {
     "iopub.execute_input": "2023-05-30T06:20:32.355016Z",
     "iopub.status.busy": "2023-05-30T06:20:32.354807Z",
     "iopub.status.idle": "2023-05-30T06:24:16.307577Z",
     "shell.execute_reply": "2023-05-30T06:24:16.306248Z",
     "shell.execute_reply.started": "2023-05-30T06:20:32.354996Z"
    },
    "tags": []
   },
   "outputs": [],
   "source": [
    "dataset_val   = Dataset(data=val_data, num_classes=3, T=100)\n",
    "# dataset_test  = Dataset(data=test_data, num_classes=3, T=100)\n",
    "# dataset_train = Dataset(data=train_data, num_classes=3, T=100)"
   ]
  },
  {
   "cell_type": "code",
   "execution_count": 18,
   "metadata": {
    "execution": {
     "iopub.execute_input": "2023-05-30T06:24:16.309092Z",
     "iopub.status.busy": "2023-05-30T06:24:16.308860Z",
     "iopub.status.idle": "2023-05-30T06:28:03.362647Z",
     "shell.execute_reply": "2023-05-30T06:28:03.361021Z",
     "shell.execute_reply.started": "2023-05-30T06:24:16.309071Z"
    },
    "tags": []
   },
   "outputs": [],
   "source": [
    "dataset_test  = Dataset(data=test_data, num_classes=3, T=100)"
   ]
  },
  {
   "cell_type": "code",
   "execution_count": 19,
   "metadata": {
    "execution": {
     "iopub.execute_input": "2023-05-30T06:28:03.364227Z",
     "iopub.status.busy": "2023-05-30T06:28:03.364001Z",
     "iopub.status.idle": "2023-05-30T07:02:16.867618Z",
     "shell.execute_reply": "2023-05-30T07:02:16.865395Z",
     "shell.execute_reply.started": "2023-05-30T06:28:03.364205Z"
    },
    "tags": []
   },
   "outputs": [],
   "source": [
    "dataset_train = Dataset(data=train_data, num_classes=3, T=100)"
   ]
  },
  {
   "cell_type": "code",
   "execution_count": 20,
   "metadata": {
    "execution": {
     "iopub.execute_input": "2023-05-30T07:02:16.870182Z",
     "iopub.status.busy": "2023-05-30T07:02:16.869914Z",
     "iopub.status.idle": "2023-05-30T07:03:17.225851Z",
     "shell.execute_reply": "2023-05-30T07:03:17.224463Z",
     "shell.execute_reply.started": "2023-05-30T07:02:16.870154Z"
    },
    "tags": []
   },
   "outputs": [
    {
     "name": "stdout",
     "output_type": "stream",
     "text": [
      "/home/yurh/quant\n",
      "/home/yurh\n"
     ]
    }
   ],
   "source": [
    "import pickle\n",
    "\n",
    "# 获取当前文件所在路径的上一层路径\n",
    "parent_dir = os.path.dirname(os.path.abspath(os.getcwd()))  # __file__表示当前文件名，可以用其他文件名替换\n",
    "grandparent_dir = os.path.dirname(os.path.abspath(parent_dir))\n",
    "# 输出上一层路径\n",
    "print(parent_dir)\n",
    "print(grandparent_dir)\n",
    "\n",
    "# 保存 Dataset 对象到文件中\n",
    "with open(grandparent_dir+'/dataset_train_new_diff_40.pickle', 'wb') as f:\n",
    "    pickle.dump(dataset_train, f)\n",
    "with open(grandparent_dir+'/dataset_test_new_diff_40.pickle', 'wb') as f:\n",
    "    pickle.dump(dataset_test, f)\n",
    "with open(grandparent_dir+'/dataset_val_new_diff_40.pickle', 'wb') as f:\n",
    "    pickle.dump(dataset_val, f)"
   ]
  },
  {
   "cell_type": "code",
   "execution_count": 21,
   "metadata": {
    "execution": {
     "iopub.execute_input": "2023-05-30T07:03:17.227428Z",
     "iopub.status.busy": "2023-05-30T07:03:17.227202Z",
     "iopub.status.idle": "2023-05-30T07:03:17.232721Z",
     "shell.execute_reply": "2023-05-30T07:03:17.231757Z",
     "shell.execute_reply.started": "2023-05-30T07:03:17.227408Z"
    },
    "tags": []
   },
   "outputs": [],
   "source": [
    "# import pickle\n",
    "\n",
    "# # 获取当前文件所在路径的上一层路径\n",
    "# parent_dir = os.path.dirname(os.path.abspath(os.getcwd()))  # __file__表示当前文件名，可以用其他文件名替换\n",
    "# grandparent_dir = os.path.dirname(os.path.abspath(parent_dir))\n",
    "# # 输出上一层路径\n",
    "# print(parent_dir)\n",
    "# print(grandparent_dir)\n",
    "\n",
    "# # 从文件中加载 Dataset 对象\n",
    "# with open(grandparent_dir+'/dataset_train_old_diff.pickle', 'rb') as f:\n",
    "#     dataset_train = pickle.load(f)\n",
    "# with open(grandparent_dir+'/dataset_val_old_diff.pickle', 'rb') as f:\n",
    "#     dataset_val = pickle.load(f)\n",
    "# with open(grandparent_dir+'/dataset_test_old_diff.pickle', 'rb') as f:\n",
    "#     dataset_test = pickle.load(f)"
   ]
  },
  {
   "cell_type": "code",
   "execution_count": 22,
   "metadata": {
    "execution": {
     "iopub.execute_input": "2023-05-30T07:03:17.233610Z",
     "iopub.status.busy": "2023-05-30T07:03:17.233442Z",
     "iopub.status.idle": "2023-05-30T07:03:17.276683Z",
     "shell.execute_reply": "2023-05-30T07:03:17.275086Z",
     "shell.execute_reply.started": "2023-05-30T07:03:17.233594Z"
    },
    "tags": []
   },
   "outputs": [
    {
     "name": "stdout",
     "output_type": "stream",
     "text": [
      "torch.Size([2348108, 1, 100, 32]) torch.Size([2348108]) False False\n",
      "torch.Size([306022, 1, 100, 32]) torch.Size([306022]) False False\n",
      "torch.Size([309921, 1, 100, 32]) torch.Size([309921]) False False\n"
     ]
    }
   ],
   "source": [
    "batch_size = 256\n",
    "\n",
    "train_loader = torch.utils.data.DataLoader(dataset=dataset_train, batch_size=batch_size, shuffle=True)\n",
    "val_loader   = torch.utils.data.DataLoader(dataset=dataset_val, batch_size=batch_size, shuffle=False)\n",
    "test_loader  = torch.utils.data.DataLoader(dataset=dataset_test, batch_size=batch_size, shuffle=False)\n",
    "\n",
    "print(dataset_train.x.shape, dataset_train.y.shape, dataset_train.x.requires_grad, dataset_train.y.requires_grad,)\n",
    "print(dataset_val.x.shape, dataset_val.y.shape, dataset_val.x.requires_grad, dataset_val.y.requires_grad,)\n",
    "print(dataset_test.x.shape, dataset_test.y.shape, dataset_test.x.requires_grad, dataset_test.y.requires_grad,)"
   ]
  },
  {
   "cell_type": "code",
   "execution_count": 23,
   "metadata": {
    "execution": {
     "iopub.execute_input": "2023-05-30T07:03:17.278819Z",
     "iopub.status.busy": "2023-05-30T07:03:17.278262Z",
     "iopub.status.idle": "2023-05-30T07:03:17.341357Z",
     "shell.execute_reply": "2023-05-30T07:03:17.339770Z",
     "shell.execute_reply.started": "2023-05-30T07:03:17.278777Z"
    },
    "tags": []
   },
   "outputs": [
    {
     "name": "stdout",
     "output_type": "stream",
     "text": [
      "cuda:0\n",
      "cuda:0\n"
     ]
    }
   ],
   "source": [
    "print(dataset_train.x.device)\n",
    "print(dataset_train.y.device)"
   ]
  },
  {
   "cell_type": "markdown",
   "metadata": {},
   "source": [
    "# 定义模型"
   ]
  },
  {
   "cell_type": "code",
   "execution_count": 24,
   "metadata": {
    "execution": {
     "iopub.execute_input": "2023-05-30T07:03:17.344665Z",
     "iopub.status.busy": "2023-05-30T07:03:17.343491Z",
     "iopub.status.idle": "2023-05-30T07:03:17.394025Z",
     "shell.execute_reply": "2023-05-30T07:03:17.392422Z",
     "shell.execute_reply.started": "2023-05-30T07:03:17.344600Z"
    },
    "tags": []
   },
   "outputs": [],
   "source": [
    "from mmpc.model import ResNet50"
   ]
  },
  {
   "cell_type": "code",
   "execution_count": 25,
   "metadata": {
    "execution": {
     "iopub.execute_input": "2023-05-30T07:03:17.397535Z",
     "iopub.status.busy": "2023-05-30T07:03:17.396143Z",
     "iopub.status.idle": "2023-05-30T07:03:17.809322Z",
     "shell.execute_reply": "2023-05-30T07:03:17.808223Z",
     "shell.execute_reply.started": "2023-05-30T07:03:17.397469Z"
    },
    "tags": []
   },
   "outputs": [],
   "source": [
    "model = ResNet50(num_classes = 3)\n",
    "model.to(device);"
   ]
  },
  {
   "cell_type": "markdown",
   "metadata": {},
   "source": [
    "# 训练模型"
   ]
  },
  {
   "cell_type": "code",
   "execution_count": 26,
   "metadata": {
    "execution": {
     "iopub.execute_input": "2023-05-30T07:03:17.810520Z",
     "iopub.status.busy": "2023-05-30T07:03:17.810320Z",
     "iopub.status.idle": "2023-05-30T07:03:17.816346Z",
     "shell.execute_reply": "2023-05-30T07:03:17.815380Z",
     "shell.execute_reply.started": "2023-05-30T07:03:17.810502Z"
    },
    "tags": []
   },
   "outputs": [],
   "source": [
    "criterion = nn.CrossEntropyLoss()\n",
    "optimizer = torch.optim.Adam(model.parameters(), lr=0.0008, weight_decay=1e-5)"
   ]
  },
  {
   "cell_type": "code",
   "execution_count": 27,
   "metadata": {
    "execution": {
     "iopub.execute_input": "2023-05-30T07:03:17.817059Z",
     "iopub.status.busy": "2023-05-30T07:03:17.816895Z",
     "iopub.status.idle": "2023-05-30T07:03:17.865575Z",
     "shell.execute_reply": "2023-05-30T07:03:17.864148Z",
     "shell.execute_reply.started": "2023-05-30T07:03:17.817043Z"
    },
    "tags": []
   },
   "outputs": [],
   "source": [
    "def batch_gd(model, criterion, optimizer, train_loader, test_loader, epochs):\n",
    "    best_test_loss = np.inf\n",
    "    best_test_epoch = 0\n",
    "    step = 0\n",
    "    save_step = 20000\n",
    "    num_data_points = len(train_loader.dataset)\n",
    "    train_losses = np.zeros((int(num_data_points/save_step)+1)*epochs)\n",
    "    test_losses = np.zeros((int(num_data_points/save_step)+1)*epochs)\n",
    "    \n",
    "    checkpoint_dir = 'ResNetcheckpoints_label40_new'\n",
    "    if not os.path.exists(checkpoint_dir):\n",
    "        os.makedirs(checkpoint_dir)\n",
    "\n",
    "    # Load the latest checkpoint if available\n",
    "    checkpoints = [f for f in os.listdir(checkpoint_dir) if re.match(r'ResNet_\\d+.pth', f)]\n",
    "    try:\n",
    "        latest_checkpoint = max(checkpoints, key=lambda x: int(x.split('_')[-1].split('.')[0]))\n",
    "        step = int(latest_checkpoint.split('_')[-1].split('.')[0])\n",
    "        model.load_state_dict(torch.load(os.path.join(checkpoint_dir, latest_checkpoint)))\n",
    "        print(f'Loaded model from {latest_checkpoint}')\n",
    "    except:\n",
    "        torch.save(model.state_dict(), os.path.join(checkpoint_dir, 'ResNet_0.pth'))\n",
    "        print(f'Initialized new model and saved as {os.path.join(checkpoint_dir, \"ResNet_0.pth\")}')\n",
    "\n",
    "    for it in tqdm(range(epochs)):\n",
    "        optimizer.state_dict()['param_groups'][0]['lr'] = optimizer.state_dict()['param_groups'][0]['lr'] * (0.98**(step/save_step))\n",
    "        model.train()\n",
    "        train_loss = []\n",
    "        t0 = datetime.now()\n",
    "\n",
    "        for inputs, targets in train_loader:\n",
    "            optimizer.zero_grad()            \n",
    "            outputs = model(inputs)\n",
    "            loss = criterion(outputs, targets)\n",
    "\n",
    "            loss.backward()\n",
    "            torch.nn.utils.clip_grad_norm_(model.parameters(), 0.5)\n",
    "            optimizer.step()\n",
    "            \n",
    "            train_loss.append(loss.item())\n",
    "\n",
    "            # Save model every 150000 steps\n",
    "            step += 1\n",
    "            if step % save_step == 0:\n",
    "                \n",
    "                torch.save(model.state_dict(), os.path.join(checkpoint_dir, f'ResNet_{step}.pth'))\n",
    "                print(f'Model saved at step {step}')\n",
    "\n",
    "        train_loss = np.mean(train_loss)\n",
    "\n",
    "        model.eval()\n",
    "        test_loss = []\n",
    "        for inputs, targets in test_loader:\n",
    "            inputs, targets = inputs.to(device, dtype=torch.float), targets.to(device, dtype=torch.int64)      \n",
    "            outputs = model(inputs)\n",
    "            loss = criterion(outputs, targets)\n",
    "            test_loss.append(loss.item())\n",
    "        test_loss = np.mean(test_loss)\n",
    "        current_lr = optimizer.state_dict()['param_groups'][0]['lr']\n",
    "\n",
    "        train_losses[it] = train_loss\n",
    "        test_losses[it] = test_loss\n",
    "\n",
    "        if test_loss < best_test_loss:\n",
    "            torch.save(model.state_dict(), f'best_val_model.pth')\n",
    "            best_test_loss = test_loss\n",
    "            best_test_epoch = it\n",
    "            print('model saved')\n",
    "\n",
    "        dt = datetime.now() - t0\n",
    "        print(f'Epoch {it+1}/{epochs}, Train Loss: {train_loss:.4f}, \\\n",
    "          Validation Loss: {test_loss:.4f},  Learning Rate: {current_lr:.9f}, Duration: {dt}, Best Val Epoch: {best_test_epoch}')\n",
    "\n",
    "    torch.save(model.state_dict(), f'final_model.pth')\n",
    "    return train_losses, test_losses"
   ]
  },
  {
   "cell_type": "code",
   "execution_count": 28,
   "metadata": {
    "execution": {
     "iopub.execute_input": "2023-05-30T07:03:17.867348Z",
     "iopub.status.busy": "2023-05-30T07:03:17.866987Z",
     "iopub.status.idle": "2023-05-30T10:01:37.177973Z",
     "shell.execute_reply": "2023-05-30T10:01:37.175639Z",
     "shell.execute_reply.started": "2023-05-30T07:03:17.867312Z"
    },
    "tags": []
   },
   "outputs": [
    {
     "name": "stdout",
     "output_type": "stream",
     "text": [
      "Initialized new model and saved as ResNetcheckpoints_label40_new/ResNet_0.pth\n"
     ]
    },
    {
     "name": "stderr",
     "output_type": "stream",
     "text": [
      "  4%|▍         | 1/25 [07:06<2:50:41, 426.73s/it]"
     ]
    },
    {
     "name": "stdout",
     "output_type": "stream",
     "text": [
      "model saved\n",
      "Epoch 1/25, Train Loss: 0.9394,           Validation Loss: 0.9955,  Learning Rate: 0.000800000, Duration: 0:07:06.727892, Best Val Epoch: 0\n"
     ]
    },
    {
     "name": "stderr",
     "output_type": "stream",
     "text": [
      "  8%|▊         | 2/25 [14:15<2:44:09, 428.22s/it]"
     ]
    },
    {
     "name": "stdout",
     "output_type": "stream",
     "text": [
      "Epoch 2/25, Train Loss: 0.9251,           Validation Loss: 1.0118,  Learning Rate: 0.000800000, Duration: 0:07:09.259910, Best Val Epoch: 0\n",
      "Model saved at step 20000\n"
     ]
    },
    {
     "name": "stderr",
     "output_type": "stream",
     "text": [
      " 12%|█▏        | 3/25 [21:24<2:37:05, 428.44s/it]"
     ]
    },
    {
     "name": "stdout",
     "output_type": "stream",
     "text": [
      "Epoch 3/25, Train Loss: 0.9210,           Validation Loss: 0.9979,  Learning Rate: 0.000800000, Duration: 0:07:08.683209, Best Val Epoch: 0\n"
     ]
    },
    {
     "name": "stderr",
     "output_type": "stream",
     "text": [
      " 16%|█▌        | 4/25 [28:33<2:30:01, 428.66s/it]"
     ]
    },
    {
     "name": "stdout",
     "output_type": "stream",
     "text": [
      "model saved\n",
      "Epoch 4/25, Train Loss: 0.9183,           Validation Loss: 0.9869,  Learning Rate: 0.000800000, Duration: 0:07:09.002383, Best Val Epoch: 3\n",
      "Model saved at step 40000\n"
     ]
    },
    {
     "name": "stderr",
     "output_type": "stream",
     "text": [
      " 20%|██        | 5/25 [35:42<2:22:51, 428.59s/it]"
     ]
    },
    {
     "name": "stdout",
     "output_type": "stream",
     "text": [
      "Epoch 5/25, Train Loss: 0.9162,           Validation Loss: 0.9882,  Learning Rate: 0.000800000, Duration: 0:07:08.465169, Best Val Epoch: 3\n"
     ]
    },
    {
     "name": "stderr",
     "output_type": "stream",
     "text": [
      " 24%|██▍       | 6/25 [42:50<2:15:39, 428.37s/it]"
     ]
    },
    {
     "name": "stdout",
     "output_type": "stream",
     "text": [
      "model saved\n",
      "Epoch 6/25, Train Loss: 0.9104,           Validation Loss: 0.9760,  Learning Rate: 0.000800000, Duration: 0:07:07.945118, Best Val Epoch: 5\n",
      "Model saved at step 60000\n"
     ]
    },
    {
     "name": "stderr",
     "output_type": "stream",
     "text": [
      " 28%|██▊       | 7/25 [49:59<2:08:33, 428.54s/it]"
     ]
    },
    {
     "name": "stdout",
     "output_type": "stream",
     "text": [
      "Epoch 7/25, Train Loss: 0.8977,           Validation Loss: 0.9768,  Learning Rate: 0.000800000, Duration: 0:07:08.889250, Best Val Epoch: 5\n"
     ]
    },
    {
     "name": "stderr",
     "output_type": "stream",
     "text": [
      " 32%|███▏      | 8/25 [57:07<2:01:24, 428.52s/it]"
     ]
    },
    {
     "name": "stdout",
     "output_type": "stream",
     "text": [
      "Epoch 8/25, Train Loss: 0.8904,           Validation Loss: 1.0126,  Learning Rate: 0.000800000, Duration: 0:07:08.470417, Best Val Epoch: 5\n",
      "Model saved at step 80000\n"
     ]
    },
    {
     "name": "stderr",
     "output_type": "stream",
     "text": [
      " 36%|███▌      | 9/25 [1:04:15<1:54:15, 428.48s/it]"
     ]
    },
    {
     "name": "stdout",
     "output_type": "stream",
     "text": [
      "model saved\n",
      "Epoch 9/25, Train Loss: 0.8850,           Validation Loss: 0.9751,  Learning Rate: 0.000800000, Duration: 0:07:08.374330, Best Val Epoch: 8\n"
     ]
    },
    {
     "name": "stderr",
     "output_type": "stream",
     "text": [
      " 40%|████      | 10/25 [1:11:24<1:47:07, 428.51s/it]"
     ]
    },
    {
     "name": "stdout",
     "output_type": "stream",
     "text": [
      "Epoch 10/25, Train Loss: 0.8798,           Validation Loss: 0.9763,  Learning Rate: 0.000800000, Duration: 0:07:08.590999, Best Val Epoch: 8\n",
      "Model saved at step 100000\n"
     ]
    },
    {
     "name": "stderr",
     "output_type": "stream",
     "text": [
      " 44%|████▍     | 11/25 [1:18:32<1:39:58, 428.48s/it]"
     ]
    },
    {
     "name": "stdout",
     "output_type": "stream",
     "text": [
      "Epoch 11/25, Train Loss: 0.8745,           Validation Loss: 0.9834,  Learning Rate: 0.000800000, Duration: 0:07:08.391350, Best Val Epoch: 8\n"
     ]
    },
    {
     "name": "stderr",
     "output_type": "stream",
     "text": [
      " 48%|████▊     | 12/25 [1:25:41<1:32:52, 428.67s/it]"
     ]
    },
    {
     "name": "stdout",
     "output_type": "stream",
     "text": [
      "Epoch 12/25, Train Loss: 0.8688,           Validation Loss: 1.0034,  Learning Rate: 0.000800000, Duration: 0:07:09.106139, Best Val Epoch: 8\n"
     ]
    },
    {
     "name": "stderr",
     "output_type": "stream",
     "text": [
      " 52%|█████▏    | 13/25 [1:32:50<1:25:42, 428.57s/it]"
     ]
    },
    {
     "name": "stdout",
     "output_type": "stream",
     "text": [
      "Epoch 13/25, Train Loss: 0.8631,           Validation Loss: 0.9955,  Learning Rate: 0.000800000, Duration: 0:07:08.350646, Best Val Epoch: 8\n",
      "Model saved at step 120000\n"
     ]
    },
    {
     "name": "stderr",
     "output_type": "stream",
     "text": [
      " 56%|█████▌    | 14/25 [1:39:58<1:18:31, 428.32s/it]"
     ]
    },
    {
     "name": "stdout",
     "output_type": "stream",
     "text": [
      "Epoch 14/25, Train Loss: 0.8572,           Validation Loss: 0.9983,  Learning Rate: 0.000800000, Duration: 0:07:07.727787, Best Val Epoch: 8\n"
     ]
    },
    {
     "name": "stderr",
     "output_type": "stream",
     "text": [
      " 60%|██████    | 15/25 [1:47:04<1:11:17, 427.72s/it]"
     ]
    },
    {
     "name": "stdout",
     "output_type": "stream",
     "text": [
      "Epoch 15/25, Train Loss: 0.8511,           Validation Loss: 1.0020,  Learning Rate: 0.000800000, Duration: 0:07:06.322188, Best Val Epoch: 8\n",
      "Model saved at step 140000\n"
     ]
    },
    {
     "name": "stderr",
     "output_type": "stream",
     "text": [
      " 64%|██████▍   | 16/25 [1:54:11<1:04:07, 427.51s/it]"
     ]
    },
    {
     "name": "stdout",
     "output_type": "stream",
     "text": [
      "Epoch 16/25, Train Loss: 0.8451,           Validation Loss: 1.0053,  Learning Rate: 0.000800000, Duration: 0:07:07.020503, Best Val Epoch: 8\n"
     ]
    },
    {
     "name": "stderr",
     "output_type": "stream",
     "text": [
      " 68%|██████▊   | 17/25 [2:01:20<57:03, 427.91s/it]  "
     ]
    },
    {
     "name": "stdout",
     "output_type": "stream",
     "text": [
      "Epoch 17/25, Train Loss: 0.8393,           Validation Loss: 1.0036,  Learning Rate: 0.000800000, Duration: 0:07:08.828963, Best Val Epoch: 8\n",
      "Model saved at step 160000\n"
     ]
    },
    {
     "name": "stderr",
     "output_type": "stream",
     "text": [
      " 72%|███████▏  | 18/25 [2:08:26<49:50, 427.28s/it]"
     ]
    },
    {
     "name": "stdout",
     "output_type": "stream",
     "text": [
      "Epoch 18/25, Train Loss: 0.8338,           Validation Loss: 1.0251,  Learning Rate: 0.000800000, Duration: 0:07:05.807466, Best Val Epoch: 8\n"
     ]
    },
    {
     "name": "stderr",
     "output_type": "stream",
     "text": [
      " 76%|███████▌  | 19/25 [2:15:33<42:43, 427.28s/it]"
     ]
    },
    {
     "name": "stdout",
     "output_type": "stream",
     "text": [
      "Epoch 19/25, Train Loss: 0.8284,           Validation Loss: 1.0265,  Learning Rate: 0.000800000, Duration: 0:07:07.288252, Best Val Epoch: 8\n",
      "Model saved at step 180000\n"
     ]
    },
    {
     "name": "stderr",
     "output_type": "stream",
     "text": [
      " 80%|████████  | 20/25 [2:22:42<35:38, 427.71s/it]"
     ]
    },
    {
     "name": "stdout",
     "output_type": "stream",
     "text": [
      "Epoch 20/25, Train Loss: 0.8233,           Validation Loss: 1.0258,  Learning Rate: 0.000800000, Duration: 0:07:08.692118, Best Val Epoch: 8\n"
     ]
    },
    {
     "name": "stderr",
     "output_type": "stream",
     "text": [
      " 84%|████████▍ | 21/25 [2:29:48<28:29, 427.45s/it]"
     ]
    },
    {
     "name": "stdout",
     "output_type": "stream",
     "text": [
      "Epoch 21/25, Train Loss: 0.8181,           Validation Loss: 1.0399,  Learning Rate: 0.000800000, Duration: 0:07:06.854021, Best Val Epoch: 8\n",
      "Model saved at step 200000\n"
     ]
    },
    {
     "name": "stderr",
     "output_type": "stream",
     "text": [
      " 88%|████████▊ | 22/25 [2:36:54<21:21, 427.01s/it]"
     ]
    },
    {
     "name": "stdout",
     "output_type": "stream",
     "text": [
      "Epoch 22/25, Train Loss: 0.8134,           Validation Loss: 1.0655,  Learning Rate: 0.000800000, Duration: 0:07:05.970859, Best Val Epoch: 8\n"
     ]
    },
    {
     "name": "stderr",
     "output_type": "stream",
     "text": [
      " 92%|█████████▏| 23/25 [2:44:02<14:14, 427.20s/it]"
     ]
    },
    {
     "name": "stdout",
     "output_type": "stream",
     "text": [
      "Epoch 23/25, Train Loss: 0.8091,           Validation Loss: 1.0536,  Learning Rate: 0.000800000, Duration: 0:07:07.650818, Best Val Epoch: 8\n",
      "Model saved at step 220000\n"
     ]
    },
    {
     "name": "stderr",
     "output_type": "stream",
     "text": [
      " 96%|█████████▌| 24/25 [2:51:10<07:07, 427.38s/it]"
     ]
    },
    {
     "name": "stdout",
     "output_type": "stream",
     "text": [
      "Epoch 24/25, Train Loss: 0.8049,           Validation Loss: 1.0503,  Learning Rate: 0.000800000, Duration: 0:07:07.805537, Best Val Epoch: 8\n"
     ]
    },
    {
     "name": "stderr",
     "output_type": "stream",
     "text": [
      "100%|██████████| 25/25 [2:58:18<00:00, 427.95s/it]"
     ]
    },
    {
     "name": "stdout",
     "output_type": "stream",
     "text": [
      "Epoch 25/25, Train Loss: 0.8007,           Validation Loss: 1.0660,  Learning Rate: 0.000800000, Duration: 0:07:08.468972, Best Val Epoch: 8\n"
     ]
    },
    {
     "name": "stderr",
     "output_type": "stream",
     "text": [
      "\n"
     ]
    }
   ],
   "source": [
    "train_losses, val_losses = batch_gd(model, criterion, optimizer, \n",
    "                                    train_loader, val_loader, epochs=25)"
   ]
  },
  {
   "cell_type": "code",
   "execution_count": 29,
   "metadata": {
    "execution": {
     "iopub.execute_input": "2023-05-30T10:01:37.182622Z",
     "iopub.status.busy": "2023-05-30T10:01:37.181604Z",
     "iopub.status.idle": "2023-05-30T10:01:37.324100Z",
     "shell.execute_reply": "2023-05-30T10:01:37.323143Z",
     "shell.execute_reply.started": "2023-05-30T10:01:37.182542Z"
    },
    "tags": []
   },
   "outputs": [
    {
     "data": {
      "text/plain": [
       "<matplotlib.legend.Legend at 0x7f3280ea9be0>"
      ]
     },
     "execution_count": 29,
     "metadata": {},
     "output_type": "execute_result"
    },
    {
     "data": {
      "image/png": "[encoded data removed]",
      "text/plain": [
       "<Figure size 640x480 with 1 Axes>"
      ]
     },
     "metadata": {},
     "output_type": "display_data"
    }
   ],
   "source": [
    "plt.figure()\n",
    "plt.plot(train_losses[0:30], label='train loss')\n",
    "plt.plot(val_losses[0:30], label='validation loss')\n",
    "plt.legend()"
   ]
  },
  {
   "cell_type": "markdown",
   "metadata": {},
   "source": [
    "# 测试模型"
   ]
  },
  {
   "cell_type": "code",
   "execution_count": 30,
   "metadata": {
    "execution": {
     "iopub.execute_input": "2023-05-30T10:01:37.325138Z",
     "iopub.status.busy": "2023-05-30T10:01:37.324965Z",
     "iopub.status.idle": "2023-05-30T10:01:58.224775Z",
     "shell.execute_reply": "2023-05-30T10:01:58.223119Z",
     "shell.execute_reply.started": "2023-05-30T10:01:37.325121Z"
    },
    "tags": []
   },
   "outputs": [
    {
     "name": "stdout",
     "output_type": "stream",
     "text": [
      "accuracy_score: 0.33806679766779274\n",
      "              precision    recall  f1-score   support\n",
      "\n",
      "           0     0.3406    0.4401    0.3840     89423\n",
      "           1     0.6506    0.1413    0.2321    142203\n",
      "           2     0.2772    0.5789    0.3749     78295\n",
      "\n",
      "    accuracy                         0.3381    309921\n",
      "   macro avg     0.4228    0.3868    0.3304    309921\n",
      "weighted avg     0.4669    0.3381    0.3120    309921\n",
      "\n"
     ]
    }
   ],
   "source": [
    "model = ResNet50(num_classes = 3)\n",
    "model.to(device);\n",
    "state_dict = torch.load(f'./ResNetcheckpoints_label60/ResNet_20000.pth', map_location=device)\n",
    "# state_dict = torch.load(f'./checkpoints/transformer_334000.pth', map_location=device)\n",
    "model.load_state_dict(state_dict)\n",
    "model.eval()\n",
    "all_targets = []\n",
    "all_predictions = []\n",
    "\n",
    "for inputs, targets in test_loader:\n",
    "    # Move to GPU\n",
    "    inputs, targets = inputs.to(device, dtype=torch.float), targets.to(device, dtype=torch.int64)\n",
    "\n",
    "    # Forward pass\n",
    "    outputs = model(inputs)\n",
    "    \n",
    "    # Get prediction\n",
    "    # torch.max returns both max and argmax\n",
    "    _, predictions = torch.max(outputs, 1)\n",
    "\n",
    "    all_targets.append(targets.cpu().numpy())\n",
    "    all_predictions.append(predictions.cpu().numpy())\n",
    "\n",
    "all_targets = np.concatenate(all_targets)    \n",
    "all_predictions = np.concatenate(all_predictions)    \n",
    "print('accuracy_score:', accuracy_score(all_targets, all_predictions))\n",
    "print(classification_report(all_targets, all_predictions, digits=4))"
   ]
  },
  {
   "cell_type": "code",
   "execution_count": 31,
   "metadata": {
    "execution": {
     "iopub.execute_input": "2023-05-30T10:01:58.225951Z",
     "iopub.status.busy": "2023-05-30T10:01:58.225761Z",
     "iopub.status.idle": "2023-05-30T10:04:34.604191Z",
     "shell.execute_reply": "2023-05-30T10:04:34.602683Z",
     "shell.execute_reply.started": "2023-05-30T10:01:58.225933Z"
    },
    "scrolled": true,
    "tags": []
   },
   "outputs": [
    {
     "name": "stdout",
     "output_type": "stream",
     "text": [
      "accuracy_score: 0.3164041006631722\n",
      "              precision    recall  f1-score   support\n",
      "\n",
      "           0     0.2908    0.4178    0.3429    551855\n",
      "           1     0.7112    0.1572    0.2575   1259893\n",
      "           2     0.2462    0.5861    0.3467    536360\n",
      "\n",
      "    accuracy                         0.3164   2348108\n",
      "   macro avg     0.4161    0.3870    0.3157   2348108\n",
      "weighted avg     0.5062    0.3164    0.2979   2348108\n",
      "\n"
     ]
    }
   ],
   "source": [
    "# model = torch.load('best_val_model_pytorch',map_location=device)\n",
    "all_targets = []\n",
    "all_predictions = []\n",
    "\n",
    "for inputs, targets in train_loader:\n",
    "\n",
    "    # Forward pass\n",
    "    outputs = model(inputs)\n",
    "    \n",
    "    # Get prediction\n",
    "    # torch.max returns both max and argmax\n",
    "    _, predictions = torch.max(outputs, 1)\n",
    "\n",
    "    all_targets.append(targets.cpu().numpy())\n",
    "    all_predictions.append(predictions.cpu().numpy())\n",
    "\n",
    "all_targets = np.concatenate(all_targets)    \n",
    "all_predictions = np.concatenate(all_predictions) \n",
    "print('accuracy_score:', accuracy_score(all_targets, all_predictions))\n",
    "print(classification_report(all_targets, all_predictions, digits=4))"
   ]
  },
  {
   "cell_type": "code",
   "execution_count": null,
   "metadata": {},
   "outputs": [],
   "source": []
  }
 ],
 "metadata": {
  "kernelspec": {
   "display_name": "Python 3 (ipykernel)",
   "language": "python",
   "name": "python3"
  },
  "language_info": {
   "codemirror_mode": {
    "name": "ipython",
    "version": 3
   },
   "file_extension": ".py",
   "mimetype": "text/x-python",
   "name": "python",
   "nbconvert_exporter": "python",
   "pygments_lexer": "ipython3",
   "version": "3.8.13"
  },
  "varInspector": {
   "cols": {
    "lenName": 16,
    "lenType": 16,
    "lenVar": 40
   },
   "kernels_config": {
    "python": {
     "delete_cmd_postfix": "",
     "delete_cmd_prefix": "del ",
     "library": "var_list.py",
     "varRefreshCmd": "print(var_dic_list())"
    },
    "r": {
     "delete_cmd_postfix": ") ",
     "delete_cmd_prefix": "rm(",
     "library": "var_list.r",
     "varRefreshCmd": "cat(var_dic_list()) "
    }
   },
   "types_to_exclude": [
    "module",
    "function",
    "builtin_function_or_method",
    "instance",
    "_Feature"
   ],
   "window_display": false
  }
 },
 "nbformat": 4,
 "nbformat_minor": 4
}
